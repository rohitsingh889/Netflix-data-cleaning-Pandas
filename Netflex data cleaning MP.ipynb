{
 "cells": [
  {
   "cell_type": "code",
   "execution_count": 19,
   "id": "855d7de4",
   "metadata": {},
   "outputs": [],
   "source": [
    "import pandas as pd"
   ]
  },
  {
   "cell_type": "code",
   "execution_count": 20,
   "id": "c4c65a15",
   "metadata": {},
   "outputs": [],
   "source": [
    "df= pd.read_csv(r'C:\\DE\\csv files data\\netflix1.csv',encoding='latin1')"
   ]
  },
  {
   "cell_type": "code",
   "execution_count": 21,
   "id": "f26f77bd",
   "metadata": {},
   "outputs": [
    {
     "data": {
      "application/vnd.microsoft.datawrangler.viewer.v0+json": {
       "columns": [
        {
         "name": "index",
         "rawType": "int64",
         "type": "integer"
        },
        {
         "name": "show_id",
         "rawType": "object",
         "type": "string"
        },
        {
         "name": "type",
         "rawType": "object",
         "type": "string"
        },
        {
         "name": "title",
         "rawType": "object",
         "type": "string"
        },
        {
         "name": "director",
         "rawType": "object",
         "type": "string"
        },
        {
         "name": "country",
         "rawType": "object",
         "type": "string"
        },
        {
         "name": "date_added",
         "rawType": "object",
         "type": "string"
        },
        {
         "name": "release_year",
         "rawType": "int64",
         "type": "integer"
        },
        {
         "name": "rating",
         "rawType": "object",
         "type": "string"
        },
        {
         "name": "duration",
         "rawType": "object",
         "type": "string"
        },
        {
         "name": "listed_in",
         "rawType": "object",
         "type": "string"
        }
       ],
       "ref": "94351e29-6771-43b3-9110-ddf0991112eb",
       "rows": [
        [
         "0",
         "s1",
         "Movie",
         "Dick Johnson Is Dead",
         "Kirsten Johnson",
         "United States",
         "9/25/2021",
         "2020",
         "PG-13",
         "90 min",
         "Documentaries"
        ],
        [
         "1",
         "s3",
         "TV Show",
         "Ganglands",
         "Julien Leclercq",
         "France",
         "9/24/2021",
         "2021",
         "TV-MA",
         "1 Season",
         "Crime TV Shows, International TV Shows, TV Action & Adventure"
        ],
        [
         "2",
         "s6",
         "TV Show",
         "Midnight Mass",
         "Mike Flanagan",
         "United States",
         "9/24/2021",
         "2021",
         "TV-MA",
         "1 Season",
         "TV Dramas, TV Horror, TV Mysteries"
        ],
        [
         "3",
         "s14",
         "Movie",
         "Confessions of an Invisible Girl",
         "Bruno Garotti",
         "Brazil",
         "9/22/2021",
         "2021",
         "TV-PG",
         "91 min",
         "Children & Family Movies, Comedies"
        ],
        [
         "4",
         "s8",
         "Movie",
         "Sankofa",
         "Haile Gerima",
         "United States",
         "9/24/2021",
         "1993",
         "TV-MA",
         "125 min",
         "Dramas, Independent Movies, International Movies"
        ],
        [
         "5",
         "s9",
         "TV Show",
         "The Great British Baking Show",
         "Andy Devonshire",
         "United Kingdom",
         "9/24/2021",
         "2021",
         "TV-14",
         "9 Seasons",
         "British TV Shows, Reality TV"
        ],
        [
         "6",
         "s10",
         "Movie",
         "The Starling",
         "Theodore Melfi",
         "United States",
         "9/24/2021",
         "2021",
         "PG-13",
         "104 min",
         "Comedies, Dramas"
        ],
        [
         "7",
         "s939",
         "Movie",
         "Motu Patlu in the Game of Zones",
         "Suhas Kadav",
         "India",
         "5/1/2021",
         "2019",
         "TV-Y7",
         "87 min",
         "Children & Family Movies, Comedies, Music & Musicals"
        ],
        [
         "8",
         "s13",
         "Movie",
         "Je Suis Karl",
         "Christian Schwochow",
         "Germany",
         "9/23/2021",
         "2021",
         "TV-MA",
         "127 min",
         "Dramas, International Movies"
        ],
        [
         "9",
         "s940",
         "Movie",
         "Motu Patlu in Wonderland",
         "Suhas Kadav",
         "India",
         "5/1/2021",
         "2013",
         "TV-Y7",
         "76 min",
         "Children & Family Movies, Music & Musicals"
        ],
        [
         "10",
         "s941",
         "Movie",
         "Motu Patlu: Deep Sea Adventure",
         "Suhas Kadav",
         "India",
         "5/1/2021",
         "2014",
         "TV-Y7",
         "76 min",
         "Children & Family Movies, Comedies"
        ],
        [
         "11",
         "s942",
         "Movie",
         "Motu Patlu: Mission Moon",
         "Suhas Kadav",
         "India",
         "5/1/2021",
         "2013",
         "TV-Y7",
         "71 min",
         "Children & Family Movies, Comedies"
        ],
        [
         "12",
         "s852",
         "Movie",
         "99 Songs (Tamil)",
         "Not Given",
         "Pakistan",
         "5/21/2021",
         "2021",
         "TV-14",
         "131 min",
         "Dramas, International Movies, Music & Musicals"
        ],
        [
         "13",
         "s471",
         "Movie",
         "Bridgerton - The Afterparty",
         "Krysia Plonka, Kristian Mercado",
         "United States",
         "7/13/2021",
         "2021",
         "TV-14",
         "39 min",
         "Movies"
        ],
        [
         "14",
         "s730",
         "Movie",
         "Bling Empire - The Afterparty",
         "Krysia Plonka, Kristian Mercado",
         "United States",
         "6/12/2021",
         "2021",
         "TV-MA",
         "36 min",
         "Movies"
        ],
        [
         "15",
         "s731",
         "Movie",
         "Cobra Kai - The Afterparty",
         "Krysia Plonka, Kristian Mercado",
         "United States",
         "6/12/2021",
         "2021",
         "TV-MA",
         "34 min",
         "Movies"
        ],
        [
         "16",
         "s913",
         "Movie",
         "The Circle - The Afterparty",
         "Krysia Plonka, Kristian Mercado",
         "United States",
         "5/7/2021",
         "2021",
         "TV-14",
         "35 min",
         "Comedies"
        ],
        [
         "17",
         "s4",
         "TV Show",
         "Jailbirds New Orleans",
         "Not Given",
         "Pakistan",
         "9/24/2021",
         "2021",
         "TV-MA",
         "1 Season",
         "Docuseries, Reality TV"
        ],
        [
         "18",
         "s15",
         "TV Show",
         "Crime Stories: India Detectives",
         "Not Given",
         "Pakistan",
         "9/22/2021",
         "2021",
         "TV-MA",
         "1 Season",
         "British TV Shows, Crime TV Shows, Docuseries"
        ],
        [
         "19",
         "s3232",
         "Movie",
         "True: Winter Wishes",
         "Mark Thornton, Todd Kauffman",
         "United States",
         "11/26/2019",
         "2019",
         "TV-Y",
         "46 min",
         "Children & Family Movies"
        ],
        [
         "20",
         "s4832",
         "TV Show",
         "True: Magical Friends",
         "Mark Thornton, Todd Kauffman",
         "United States",
         "6/15/2018",
         "2018",
         "TV-Y",
         "1 Season",
         "Kids' TV"
        ],
        [
         "21",
         "s4833",
         "TV Show",
         "True: Wonderful Wishes",
         "Mark Thornton, Todd Kauffman",
         "United States",
         "6/15/2018",
         "2018",
         "TV-Y",
         "1 Season",
         "Kids' TV"
        ],
        [
         "22",
         "s4857",
         "TV Show",
         "Dance & Sing with True",
         "Mark Thornton, Todd Kauffman",
         "United States",
         "5/18/2018",
         "2018",
         "TV-Y",
         "1 Season",
         "Kids' TV"
        ],
        [
         "23",
         "s7",
         "Movie",
         "My Little Pony: A New Generation",
         "Robert Cullen, JosÃ© Luis Ucha",
         "Not Given",
         "9/24/2021",
         "2021",
         "PG",
         "91 min",
         "Children & Family Movies"
        ],
        [
         "24",
         "s12",
         "TV Show",
         "Bangkok Breaking",
         "Kongkiat Komesiri",
         "Not Given",
         "9/23/2021",
         "2021",
         "TV-MA",
         "1 Season",
         "Crime TV Shows, International TV Shows, TV Action & Adventure"
        ],
        [
         "25",
         "s17",
         "Movie",
         "Europe's Most Dangerous Man: Otto Skorzeny in Spain",
         "Pedro de Echave GarcÃ­a, Pablo AzorÃ­n Williams",
         "Not Given",
         "9/22/2021",
         "2020",
         "TV-MA",
         "67 min",
         "Documentaries, International Movies"
        ],
        [
         "26",
         "s7930",
         "Movie",
         "Samudri Lootere",
         "Anirban Majumder",
         "Not Given",
         "6/18/2019",
         "2018",
         "TV-Y",
         "65 min",
         "Children & Family Movies"
        ],
        [
         "27",
         "s21",
         "TV Show",
         "Monsters Inside: The 24 Faces of Billy Milligan",
         "Olivier Megaton",
         "United States",
         "9/22/2021",
         "2021",
         "TV-14",
         "1 Season",
         "Crime TV Shows, Docuseries, International TV Shows"
        ],
        [
         "28",
         "s24",
         "Movie",
         "Go! Go! Cory Carson: Chrissy Takes the Wheel",
         "Alex Woo, Stanley Moore",
         "United States",
         "9/21/2021",
         "2021",
         "TV-Y",
         "61 min",
         "Children & Family Movies"
        ],
        [
         "29",
         "s25",
         "Movie",
         "Jeans",
         "S. Shankar",
         "India",
         "9/21/2021",
         "1998",
         "TV-14",
         "166 min",
         "Comedies, International Movies, Romantic Movies"
        ],
        [
         "30",
         "s28",
         "Movie",
         "Grown Ups",
         "Dennis Dugan",
         "United States",
         "9/20/2021",
         "2010",
         "PG-13",
         "103 min",
         "Comedies"
        ],
        [
         "31",
         "s29",
         "Movie",
         "Dark Skies",
         "Scott Stewart",
         "United States",
         "9/19/2021",
         "2013",
         "PG-13",
         "97 min",
         "Horror Movies, Sci-Fi & Fantasy"
        ],
        [
         "32",
         "s30",
         "Movie",
         "Paranoia",
         "Robert Luketic",
         "United States",
         "9/19/2021",
         "2013",
         "PG-13",
         "106 min",
         "Thrillers"
        ],
        [
         "33",
         "s20",
         "TV Show",
         "Jaguar",
         "Not Given",
         "Pakistan",
         "9/22/2021",
         "2021",
         "TV-MA",
         "1 Season",
         "International TV Shows, Spanish-Language TV Shows, TV Action & Adventure"
        ],
        [
         "34",
         "s32",
         "TV Show",
         "Chicago Party Aunt",
         "Not Given",
         "Pakistan",
         "9/17/2021",
         "2021",
         "TV-MA",
         "1 Season",
         "TV Comedies"
        ],
        [
         "35",
         "s34",
         "TV Show",
         "Squid Game",
         "Not Given",
         "Pakistan",
         "9/17/2021",
         "2021",
         "TV-MA",
         "1 Season",
         "International TV Shows, TV Dramas, TV Thrillers"
        ],
        [
         "36",
         "s35",
         "TV Show",
         "Tayo and Little Wizards",
         "Not Given",
         "Pakistan",
         "9/17/2021",
         "2020",
         "TV-Y7",
         "1 Season",
         "Kids' TV"
        ],
        [
         "37",
         "s75",
         "TV Show",
         "The World's Most Amazing Vacation Rentals",
         "Not Given",
         "Pakistan",
         "9/14/2021",
         "2021",
         "TV-PG",
         "2 Seasons",
         "Reality TV"
        ],
        [
         "38",
         "s84",
         "TV Show",
         "Metal Shop Masters",
         "Not Given",
         "Pakistan",
         "9/10/2021",
         "2021",
         "TV-MA",
         "1 Season",
         "Reality TV"
        ],
        [
         "39",
         "s86",
         "TV Show",
         "PokÃ©mon Master Journeys: The Series",
         "Not Given",
         "Pakistan",
         "9/10/2021",
         "2021",
         "TV-Y7",
         "1 Season",
         "Anime Series, Kids' TV"
        ],
        [
         "40",
         "s88",
         "TV Show",
         "Titipo Titipo",
         "Not Given",
         "Pakistan",
         "9/10/2021",
         "2019",
         "TV-Y",
         "2 Seasons",
         "Kids' TV, Korean TV Shows"
        ],
        [
         "41",
         "s90",
         "TV Show",
         "Mighty Raju",
         "Not Given",
         "Pakistan",
         "9/9/2021",
         "2017",
         "TV-Y7",
         "4 Seasons",
         "Kids' TV"
        ],
        [
         "42",
         "s101",
         "TV Show",
         "Tobot Galaxy Detectives",
         "Not Given",
         "Pakistan",
         "9/7/2021",
         "2019",
         "TV-Y7",
         "2 Seasons",
         "Kids' TV"
        ],
        [
         "43",
         "s122",
         "TV Show",
         "Hotel Del Luna",
         "Not Given",
         "Pakistan",
         "9/2/2021",
         "2019",
         "TV-14",
         "1 Season",
         "International TV Shows, Romantic TV Shows, TV Comedies"
        ],
        [
         "44",
         "s133",
         "TV Show",
         "Brave Animated Series",
         "Not Given",
         "Pakistan",
         "9/1/2021",
         "2021",
         "TV-MA",
         "1 Season",
         "International TV Shows, TV Action & Adventure, TV Comedies"
        ],
        [
         "45",
         "s148",
         "TV Show",
         "How to Be a Cowboy",
         "Not Given",
         "Pakistan",
         "9/1/2021",
         "2021",
         "TV-PG",
         "1 Season",
         "Reality TV"
        ],
        [
         "46",
         "s166",
         "TV Show",
         "Oldsters",
         "Not Given",
         "Pakistan",
         "9/1/2021",
         "2019",
         "TV-MA",
         "1 Season",
         "Crime TV Shows, International TV Shows, Spanish-Language TV Shows"
        ],
        [
         "47",
         "s190",
         "TV Show",
         "Bread Barbershop",
         "Not Given",
         "Pakistan",
         "8/28/2021",
         "2020",
         "TV-Y",
         "2 Seasons",
         "Kids' TV, TV Comedies"
        ],
        [
         "48",
         "s182",
         "TV Show",
         "Turning Point: 9/11 and the War on Terror",
         "Not Given",
         "Pakistan",
         "9/1/2021",
         "2021",
         "TV-14",
         "1 Season",
         "Docuseries"
        ],
        [
         "49",
         "s187",
         "TV Show",
         "Hometown Cha-Cha-Cha",
         "Not Given",
         "Pakistan",
         "8/29/2021",
         "2021",
         "TV-14",
         "1 Season",
         "International TV Shows, Romantic TV Shows, TV Comedies"
        ]
       ],
       "shape": {
        "columns": 10,
        "rows": 8790
       }
      },
      "text/html": [
       "<div>\n",
       "<style scoped>\n",
       "    .dataframe tbody tr th:only-of-type {\n",
       "        vertical-align: middle;\n",
       "    }\n",
       "\n",
       "    .dataframe tbody tr th {\n",
       "        vertical-align: top;\n",
       "    }\n",
       "\n",
       "    .dataframe thead th {\n",
       "        text-align: right;\n",
       "    }\n",
       "</style>\n",
       "<table border=\"1\" class=\"dataframe\">\n",
       "  <thead>\n",
       "    <tr style=\"text-align: right;\">\n",
       "      <th></th>\n",
       "      <th>show_id</th>\n",
       "      <th>type</th>\n",
       "      <th>title</th>\n",
       "      <th>director</th>\n",
       "      <th>country</th>\n",
       "      <th>date_added</th>\n",
       "      <th>release_year</th>\n",
       "      <th>rating</th>\n",
       "      <th>duration</th>\n",
       "      <th>listed_in</th>\n",
       "    </tr>\n",
       "  </thead>\n",
       "  <tbody>\n",
       "    <tr>\n",
       "      <th>0</th>\n",
       "      <td>s1</td>\n",
       "      <td>Movie</td>\n",
       "      <td>Dick Johnson Is Dead</td>\n",
       "      <td>Kirsten Johnson</td>\n",
       "      <td>United States</td>\n",
       "      <td>9/25/2021</td>\n",
       "      <td>2020</td>\n",
       "      <td>PG-13</td>\n",
       "      <td>90 min</td>\n",
       "      <td>Documentaries</td>\n",
       "    </tr>\n",
       "    <tr>\n",
       "      <th>1</th>\n",
       "      <td>s3</td>\n",
       "      <td>TV Show</td>\n",
       "      <td>Ganglands</td>\n",
       "      <td>Julien Leclercq</td>\n",
       "      <td>France</td>\n",
       "      <td>9/24/2021</td>\n",
       "      <td>2021</td>\n",
       "      <td>TV-MA</td>\n",
       "      <td>1 Season</td>\n",
       "      <td>Crime TV Shows, International TV Shows, TV Act...</td>\n",
       "    </tr>\n",
       "    <tr>\n",
       "      <th>2</th>\n",
       "      <td>s6</td>\n",
       "      <td>TV Show</td>\n",
       "      <td>Midnight Mass</td>\n",
       "      <td>Mike Flanagan</td>\n",
       "      <td>United States</td>\n",
       "      <td>9/24/2021</td>\n",
       "      <td>2021</td>\n",
       "      <td>TV-MA</td>\n",
       "      <td>1 Season</td>\n",
       "      <td>TV Dramas, TV Horror, TV Mysteries</td>\n",
       "    </tr>\n",
       "    <tr>\n",
       "      <th>3</th>\n",
       "      <td>s14</td>\n",
       "      <td>Movie</td>\n",
       "      <td>Confessions of an Invisible Girl</td>\n",
       "      <td>Bruno Garotti</td>\n",
       "      <td>Brazil</td>\n",
       "      <td>9/22/2021</td>\n",
       "      <td>2021</td>\n",
       "      <td>TV-PG</td>\n",
       "      <td>91 min</td>\n",
       "      <td>Children &amp; Family Movies, Comedies</td>\n",
       "    </tr>\n",
       "    <tr>\n",
       "      <th>4</th>\n",
       "      <td>s8</td>\n",
       "      <td>Movie</td>\n",
       "      <td>Sankofa</td>\n",
       "      <td>Haile Gerima</td>\n",
       "      <td>United States</td>\n",
       "      <td>9/24/2021</td>\n",
       "      <td>1993</td>\n",
       "      <td>TV-MA</td>\n",
       "      <td>125 min</td>\n",
       "      <td>Dramas, Independent Movies, International Movies</td>\n",
       "    </tr>\n",
       "    <tr>\n",
       "      <th>...</th>\n",
       "      <td>...</td>\n",
       "      <td>...</td>\n",
       "      <td>...</td>\n",
       "      <td>...</td>\n",
       "      <td>...</td>\n",
       "      <td>...</td>\n",
       "      <td>...</td>\n",
       "      <td>...</td>\n",
       "      <td>...</td>\n",
       "      <td>...</td>\n",
       "    </tr>\n",
       "    <tr>\n",
       "      <th>8785</th>\n",
       "      <td>s8797</td>\n",
       "      <td>TV Show</td>\n",
       "      <td>Yunus Emre</td>\n",
       "      <td>Not Given</td>\n",
       "      <td>Turkey</td>\n",
       "      <td>1/17/2017</td>\n",
       "      <td>2016</td>\n",
       "      <td>TV-PG</td>\n",
       "      <td>2 Seasons</td>\n",
       "      <td>International TV Shows, TV Dramas</td>\n",
       "    </tr>\n",
       "    <tr>\n",
       "      <th>8786</th>\n",
       "      <td>s8798</td>\n",
       "      <td>TV Show</td>\n",
       "      <td>Zak Storm</td>\n",
       "      <td>Not Given</td>\n",
       "      <td>United States</td>\n",
       "      <td>9/13/2018</td>\n",
       "      <td>2016</td>\n",
       "      <td>TV-Y7</td>\n",
       "      <td>3 Seasons</td>\n",
       "      <td>Kids' TV</td>\n",
       "    </tr>\n",
       "    <tr>\n",
       "      <th>8787</th>\n",
       "      <td>s8801</td>\n",
       "      <td>TV Show</td>\n",
       "      <td>Zindagi Gulzar Hai</td>\n",
       "      <td>Not Given</td>\n",
       "      <td>Pakistan</td>\n",
       "      <td>12/15/2016</td>\n",
       "      <td>2012</td>\n",
       "      <td>TV-PG</td>\n",
       "      <td>1 Season</td>\n",
       "      <td>International TV Shows, Romantic TV Shows, TV ...</td>\n",
       "    </tr>\n",
       "    <tr>\n",
       "      <th>8788</th>\n",
       "      <td>s8784</td>\n",
       "      <td>TV Show</td>\n",
       "      <td>Yoko</td>\n",
       "      <td>Not Given</td>\n",
       "      <td>Pakistan</td>\n",
       "      <td>6/23/2018</td>\n",
       "      <td>2016</td>\n",
       "      <td>TV-Y</td>\n",
       "      <td>1 Season</td>\n",
       "      <td>Kids' TV</td>\n",
       "    </tr>\n",
       "    <tr>\n",
       "      <th>8789</th>\n",
       "      <td>s8786</td>\n",
       "      <td>TV Show</td>\n",
       "      <td>YOM</td>\n",
       "      <td>Not Given</td>\n",
       "      <td>Pakistan</td>\n",
       "      <td>6/7/2018</td>\n",
       "      <td>2016</td>\n",
       "      <td>TV-Y7</td>\n",
       "      <td>1 Season</td>\n",
       "      <td>Kids' TV</td>\n",
       "    </tr>\n",
       "  </tbody>\n",
       "</table>\n",
       "<p>8790 rows × 10 columns</p>\n",
       "</div>"
      ],
      "text/plain": [
       "     show_id     type                             title         director  \\\n",
       "0         s1    Movie              Dick Johnson Is Dead  Kirsten Johnson   \n",
       "1         s3  TV Show                         Ganglands  Julien Leclercq   \n",
       "2         s6  TV Show                     Midnight Mass    Mike Flanagan   \n",
       "3        s14    Movie  Confessions of an Invisible Girl    Bruno Garotti   \n",
       "4         s8    Movie                           Sankofa     Haile Gerima   \n",
       "...      ...      ...                               ...              ...   \n",
       "8785   s8797  TV Show                        Yunus Emre        Not Given   \n",
       "8786   s8798  TV Show                         Zak Storm        Not Given   \n",
       "8787   s8801  TV Show                Zindagi Gulzar Hai        Not Given   \n",
       "8788   s8784  TV Show                              Yoko        Not Given   \n",
       "8789   s8786  TV Show                               YOM        Not Given   \n",
       "\n",
       "            country  date_added  release_year rating   duration  \\\n",
       "0     United States   9/25/2021          2020  PG-13     90 min   \n",
       "1            France   9/24/2021          2021  TV-MA   1 Season   \n",
       "2     United States   9/24/2021          2021  TV-MA   1 Season   \n",
       "3            Brazil   9/22/2021          2021  TV-PG     91 min   \n",
       "4     United States   9/24/2021          1993  TV-MA    125 min   \n",
       "...             ...         ...           ...    ...        ...   \n",
       "8785         Turkey   1/17/2017          2016  TV-PG  2 Seasons   \n",
       "8786  United States   9/13/2018          2016  TV-Y7  3 Seasons   \n",
       "8787       Pakistan  12/15/2016          2012  TV-PG   1 Season   \n",
       "8788       Pakistan   6/23/2018          2016   TV-Y   1 Season   \n",
       "8789       Pakistan    6/7/2018          2016  TV-Y7   1 Season   \n",
       "\n",
       "                                              listed_in  \n",
       "0                                         Documentaries  \n",
       "1     Crime TV Shows, International TV Shows, TV Act...  \n",
       "2                    TV Dramas, TV Horror, TV Mysteries  \n",
       "3                    Children & Family Movies, Comedies  \n",
       "4      Dramas, Independent Movies, International Movies  \n",
       "...                                                 ...  \n",
       "8785                  International TV Shows, TV Dramas  \n",
       "8786                                           Kids' TV  \n",
       "8787  International TV Shows, Romantic TV Shows, TV ...  \n",
       "8788                                           Kids' TV  \n",
       "8789                                           Kids' TV  \n",
       "\n",
       "[8790 rows x 10 columns]"
      ]
     },
     "execution_count": 21,
     "metadata": {},
     "output_type": "execute_result"
    }
   ],
   "source": [
    "df"
   ]
  },
  {
   "cell_type": "code",
   "execution_count": 22,
   "id": "327a536a",
   "metadata": {},
   "outputs": [
    {
     "data": {
      "text/plain": [
       "(8790, 10)"
      ]
     },
     "execution_count": 22,
     "metadata": {},
     "output_type": "execute_result"
    }
   ],
   "source": [
    "df.shape"
   ]
  },
  {
   "cell_type": "code",
   "execution_count": 23,
   "id": "0ead7a0d",
   "metadata": {},
   "outputs": [
    {
     "data": {
      "application/vnd.microsoft.datawrangler.viewer.v0+json": {
       "columns": [
        {
         "name": "index",
         "rawType": "int64",
         "type": "integer"
        },
        {
         "name": "show_id",
         "rawType": "object",
         "type": "string"
        },
        {
         "name": "type",
         "rawType": "object",
         "type": "string"
        },
        {
         "name": "title",
         "rawType": "object",
         "type": "string"
        },
        {
         "name": "director",
         "rawType": "object",
         "type": "string"
        },
        {
         "name": "country",
         "rawType": "object",
         "type": "string"
        },
        {
         "name": "date_added",
         "rawType": "object",
         "type": "string"
        },
        {
         "name": "release_year",
         "rawType": "int64",
         "type": "integer"
        },
        {
         "name": "rating",
         "rawType": "object",
         "type": "string"
        },
        {
         "name": "duration",
         "rawType": "object",
         "type": "string"
        },
        {
         "name": "listed_in",
         "rawType": "object",
         "type": "string"
        }
       ],
       "ref": "2d75081d-23c5-4d0b-bd0b-5349785946ef",
       "rows": [
        [
         "0",
         "s1",
         "Movie",
         "Dick Johnson Is Dead",
         "Kirsten Johnson",
         "United States",
         "9/25/2021",
         "2020",
         "PG-13",
         "90 min",
         "Documentaries"
        ],
        [
         "1",
         "s3",
         "TV Show",
         "Ganglands",
         "Julien Leclercq",
         "France",
         "9/24/2021",
         "2021",
         "TV-MA",
         "1 Season",
         "Crime TV Shows, International TV Shows, TV Action & Adventure"
        ],
        [
         "2",
         "s6",
         "TV Show",
         "Midnight Mass",
         "Mike Flanagan",
         "United States",
         "9/24/2021",
         "2021",
         "TV-MA",
         "1 Season",
         "TV Dramas, TV Horror, TV Mysteries"
        ],
        [
         "3",
         "s14",
         "Movie",
         "Confessions of an Invisible Girl",
         "Bruno Garotti",
         "Brazil",
         "9/22/2021",
         "2021",
         "TV-PG",
         "91 min",
         "Children & Family Movies, Comedies"
        ],
        [
         "4",
         "s8",
         "Movie",
         "Sankofa",
         "Haile Gerima",
         "United States",
         "9/24/2021",
         "1993",
         "TV-MA",
         "125 min",
         "Dramas, Independent Movies, International Movies"
        ]
       ],
       "shape": {
        "columns": 10,
        "rows": 5
       }
      },
      "text/html": [
       "<div>\n",
       "<style scoped>\n",
       "    .dataframe tbody tr th:only-of-type {\n",
       "        vertical-align: middle;\n",
       "    }\n",
       "\n",
       "    .dataframe tbody tr th {\n",
       "        vertical-align: top;\n",
       "    }\n",
       "\n",
       "    .dataframe thead th {\n",
       "        text-align: right;\n",
       "    }\n",
       "</style>\n",
       "<table border=\"1\" class=\"dataframe\">\n",
       "  <thead>\n",
       "    <tr style=\"text-align: right;\">\n",
       "      <th></th>\n",
       "      <th>show_id</th>\n",
       "      <th>type</th>\n",
       "      <th>title</th>\n",
       "      <th>director</th>\n",
       "      <th>country</th>\n",
       "      <th>date_added</th>\n",
       "      <th>release_year</th>\n",
       "      <th>rating</th>\n",
       "      <th>duration</th>\n",
       "      <th>listed_in</th>\n",
       "    </tr>\n",
       "  </thead>\n",
       "  <tbody>\n",
       "    <tr>\n",
       "      <th>0</th>\n",
       "      <td>s1</td>\n",
       "      <td>Movie</td>\n",
       "      <td>Dick Johnson Is Dead</td>\n",
       "      <td>Kirsten Johnson</td>\n",
       "      <td>United States</td>\n",
       "      <td>9/25/2021</td>\n",
       "      <td>2020</td>\n",
       "      <td>PG-13</td>\n",
       "      <td>90 min</td>\n",
       "      <td>Documentaries</td>\n",
       "    </tr>\n",
       "    <tr>\n",
       "      <th>1</th>\n",
       "      <td>s3</td>\n",
       "      <td>TV Show</td>\n",
       "      <td>Ganglands</td>\n",
       "      <td>Julien Leclercq</td>\n",
       "      <td>France</td>\n",
       "      <td>9/24/2021</td>\n",
       "      <td>2021</td>\n",
       "      <td>TV-MA</td>\n",
       "      <td>1 Season</td>\n",
       "      <td>Crime TV Shows, International TV Shows, TV Act...</td>\n",
       "    </tr>\n",
       "    <tr>\n",
       "      <th>2</th>\n",
       "      <td>s6</td>\n",
       "      <td>TV Show</td>\n",
       "      <td>Midnight Mass</td>\n",
       "      <td>Mike Flanagan</td>\n",
       "      <td>United States</td>\n",
       "      <td>9/24/2021</td>\n",
       "      <td>2021</td>\n",
       "      <td>TV-MA</td>\n",
       "      <td>1 Season</td>\n",
       "      <td>TV Dramas, TV Horror, TV Mysteries</td>\n",
       "    </tr>\n",
       "    <tr>\n",
       "      <th>3</th>\n",
       "      <td>s14</td>\n",
       "      <td>Movie</td>\n",
       "      <td>Confessions of an Invisible Girl</td>\n",
       "      <td>Bruno Garotti</td>\n",
       "      <td>Brazil</td>\n",
       "      <td>9/22/2021</td>\n",
       "      <td>2021</td>\n",
       "      <td>TV-PG</td>\n",
       "      <td>91 min</td>\n",
       "      <td>Children &amp; Family Movies, Comedies</td>\n",
       "    </tr>\n",
       "    <tr>\n",
       "      <th>4</th>\n",
       "      <td>s8</td>\n",
       "      <td>Movie</td>\n",
       "      <td>Sankofa</td>\n",
       "      <td>Haile Gerima</td>\n",
       "      <td>United States</td>\n",
       "      <td>9/24/2021</td>\n",
       "      <td>1993</td>\n",
       "      <td>TV-MA</td>\n",
       "      <td>125 min</td>\n",
       "      <td>Dramas, Independent Movies, International Movies</td>\n",
       "    </tr>\n",
       "  </tbody>\n",
       "</table>\n",
       "</div>"
      ],
      "text/plain": [
       "  show_id     type                             title         director  \\\n",
       "0      s1    Movie              Dick Johnson Is Dead  Kirsten Johnson   \n",
       "1      s3  TV Show                         Ganglands  Julien Leclercq   \n",
       "2      s6  TV Show                     Midnight Mass    Mike Flanagan   \n",
       "3     s14    Movie  Confessions of an Invisible Girl    Bruno Garotti   \n",
       "4      s8    Movie                           Sankofa     Haile Gerima   \n",
       "\n",
       "         country date_added  release_year rating  duration  \\\n",
       "0  United States  9/25/2021          2020  PG-13    90 min   \n",
       "1         France  9/24/2021          2021  TV-MA  1 Season   \n",
       "2  United States  9/24/2021          2021  TV-MA  1 Season   \n",
       "3         Brazil  9/22/2021          2021  TV-PG    91 min   \n",
       "4  United States  9/24/2021          1993  TV-MA   125 min   \n",
       "\n",
       "                                           listed_in  \n",
       "0                                      Documentaries  \n",
       "1  Crime TV Shows, International TV Shows, TV Act...  \n",
       "2                 TV Dramas, TV Horror, TV Mysteries  \n",
       "3                 Children & Family Movies, Comedies  \n",
       "4   Dramas, Independent Movies, International Movies  "
      ]
     },
     "execution_count": 23,
     "metadata": {},
     "output_type": "execute_result"
    }
   ],
   "source": [
    "df.head()  # Display the first few rows of the DataFrame\n"
   ]
  },
  {
   "cell_type": "code",
   "execution_count": 24,
   "id": "6d182fac",
   "metadata": {},
   "outputs": [
    {
     "data": {
      "application/vnd.microsoft.datawrangler.viewer.v0+json": {
       "columns": [
        {
         "name": "index",
         "rawType": "int64",
         "type": "integer"
        },
        {
         "name": "show_id",
         "rawType": "object",
         "type": "string"
        },
        {
         "name": "type",
         "rawType": "object",
         "type": "string"
        },
        {
         "name": "title",
         "rawType": "object",
         "type": "string"
        },
        {
         "name": "director",
         "rawType": "object",
         "type": "string"
        },
        {
         "name": "country",
         "rawType": "object",
         "type": "string"
        },
        {
         "name": "date_added",
         "rawType": "object",
         "type": "string"
        },
        {
         "name": "release_year",
         "rawType": "int64",
         "type": "integer"
        },
        {
         "name": "rating",
         "rawType": "object",
         "type": "string"
        },
        {
         "name": "duration",
         "rawType": "object",
         "type": "string"
        },
        {
         "name": "listed_in",
         "rawType": "object",
         "type": "string"
        }
       ],
       "ref": "f631cee3-b97e-4bbc-ab9e-c8ed468feaea",
       "rows": [
        [
         "8785",
         "s8797",
         "TV Show",
         "Yunus Emre",
         "Not Given",
         "Turkey",
         "1/17/2017",
         "2016",
         "TV-PG",
         "2 Seasons",
         "International TV Shows, TV Dramas"
        ],
        [
         "8786",
         "s8798",
         "TV Show",
         "Zak Storm",
         "Not Given",
         "United States",
         "9/13/2018",
         "2016",
         "TV-Y7",
         "3 Seasons",
         "Kids' TV"
        ],
        [
         "8787",
         "s8801",
         "TV Show",
         "Zindagi Gulzar Hai",
         "Not Given",
         "Pakistan",
         "12/15/2016",
         "2012",
         "TV-PG",
         "1 Season",
         "International TV Shows, Romantic TV Shows, TV Dramas"
        ],
        [
         "8788",
         "s8784",
         "TV Show",
         "Yoko",
         "Not Given",
         "Pakistan",
         "6/23/2018",
         "2016",
         "TV-Y",
         "1 Season",
         "Kids' TV"
        ],
        [
         "8789",
         "s8786",
         "TV Show",
         "YOM",
         "Not Given",
         "Pakistan",
         "6/7/2018",
         "2016",
         "TV-Y7",
         "1 Season",
         "Kids' TV"
        ]
       ],
       "shape": {
        "columns": 10,
        "rows": 5
       }
      },
      "text/html": [
       "<div>\n",
       "<style scoped>\n",
       "    .dataframe tbody tr th:only-of-type {\n",
       "        vertical-align: middle;\n",
       "    }\n",
       "\n",
       "    .dataframe tbody tr th {\n",
       "        vertical-align: top;\n",
       "    }\n",
       "\n",
       "    .dataframe thead th {\n",
       "        text-align: right;\n",
       "    }\n",
       "</style>\n",
       "<table border=\"1\" class=\"dataframe\">\n",
       "  <thead>\n",
       "    <tr style=\"text-align: right;\">\n",
       "      <th></th>\n",
       "      <th>show_id</th>\n",
       "      <th>type</th>\n",
       "      <th>title</th>\n",
       "      <th>director</th>\n",
       "      <th>country</th>\n",
       "      <th>date_added</th>\n",
       "      <th>release_year</th>\n",
       "      <th>rating</th>\n",
       "      <th>duration</th>\n",
       "      <th>listed_in</th>\n",
       "    </tr>\n",
       "  </thead>\n",
       "  <tbody>\n",
       "    <tr>\n",
       "      <th>8785</th>\n",
       "      <td>s8797</td>\n",
       "      <td>TV Show</td>\n",
       "      <td>Yunus Emre</td>\n",
       "      <td>Not Given</td>\n",
       "      <td>Turkey</td>\n",
       "      <td>1/17/2017</td>\n",
       "      <td>2016</td>\n",
       "      <td>TV-PG</td>\n",
       "      <td>2 Seasons</td>\n",
       "      <td>International TV Shows, TV Dramas</td>\n",
       "    </tr>\n",
       "    <tr>\n",
       "      <th>8786</th>\n",
       "      <td>s8798</td>\n",
       "      <td>TV Show</td>\n",
       "      <td>Zak Storm</td>\n",
       "      <td>Not Given</td>\n",
       "      <td>United States</td>\n",
       "      <td>9/13/2018</td>\n",
       "      <td>2016</td>\n",
       "      <td>TV-Y7</td>\n",
       "      <td>3 Seasons</td>\n",
       "      <td>Kids' TV</td>\n",
       "    </tr>\n",
       "    <tr>\n",
       "      <th>8787</th>\n",
       "      <td>s8801</td>\n",
       "      <td>TV Show</td>\n",
       "      <td>Zindagi Gulzar Hai</td>\n",
       "      <td>Not Given</td>\n",
       "      <td>Pakistan</td>\n",
       "      <td>12/15/2016</td>\n",
       "      <td>2012</td>\n",
       "      <td>TV-PG</td>\n",
       "      <td>1 Season</td>\n",
       "      <td>International TV Shows, Romantic TV Shows, TV ...</td>\n",
       "    </tr>\n",
       "    <tr>\n",
       "      <th>8788</th>\n",
       "      <td>s8784</td>\n",
       "      <td>TV Show</td>\n",
       "      <td>Yoko</td>\n",
       "      <td>Not Given</td>\n",
       "      <td>Pakistan</td>\n",
       "      <td>6/23/2018</td>\n",
       "      <td>2016</td>\n",
       "      <td>TV-Y</td>\n",
       "      <td>1 Season</td>\n",
       "      <td>Kids' TV</td>\n",
       "    </tr>\n",
       "    <tr>\n",
       "      <th>8789</th>\n",
       "      <td>s8786</td>\n",
       "      <td>TV Show</td>\n",
       "      <td>YOM</td>\n",
       "      <td>Not Given</td>\n",
       "      <td>Pakistan</td>\n",
       "      <td>6/7/2018</td>\n",
       "      <td>2016</td>\n",
       "      <td>TV-Y7</td>\n",
       "      <td>1 Season</td>\n",
       "      <td>Kids' TV</td>\n",
       "    </tr>\n",
       "  </tbody>\n",
       "</table>\n",
       "</div>"
      ],
      "text/plain": [
       "     show_id     type               title   director        country  \\\n",
       "8785   s8797  TV Show          Yunus Emre  Not Given         Turkey   \n",
       "8786   s8798  TV Show           Zak Storm  Not Given  United States   \n",
       "8787   s8801  TV Show  Zindagi Gulzar Hai  Not Given       Pakistan   \n",
       "8788   s8784  TV Show                Yoko  Not Given       Pakistan   \n",
       "8789   s8786  TV Show                 YOM  Not Given       Pakistan   \n",
       "\n",
       "      date_added  release_year rating   duration  \\\n",
       "8785   1/17/2017          2016  TV-PG  2 Seasons   \n",
       "8786   9/13/2018          2016  TV-Y7  3 Seasons   \n",
       "8787  12/15/2016          2012  TV-PG   1 Season   \n",
       "8788   6/23/2018          2016   TV-Y   1 Season   \n",
       "8789    6/7/2018          2016  TV-Y7   1 Season   \n",
       "\n",
       "                                              listed_in  \n",
       "8785                  International TV Shows, TV Dramas  \n",
       "8786                                           Kids' TV  \n",
       "8787  International TV Shows, Romantic TV Shows, TV ...  \n",
       "8788                                           Kids' TV  \n",
       "8789                                           Kids' TV  "
      ]
     },
     "execution_count": 24,
     "metadata": {},
     "output_type": "execute_result"
    }
   ],
   "source": [
    "df.tail()  # Display the last few rows of the DataFrame"
   ]
  },
  {
   "cell_type": "code",
   "execution_count": 25,
   "id": "c8982235",
   "metadata": {},
   "outputs": [
    {
     "data": {
      "text/plain": [
       "Index(['show_id', 'type', 'title', 'director', 'country', 'date_added',\n",
       "       'release_year', 'rating', 'duration', 'listed_in'],\n",
       "      dtype='object')"
      ]
     },
     "execution_count": 25,
     "metadata": {},
     "output_type": "execute_result"
    }
   ],
   "source": [
    "df.columns"
   ]
  },
  {
   "cell_type": "code",
   "execution_count": 26,
   "id": "12208018",
   "metadata": {},
   "outputs": [
    {
     "name": "stdout",
     "output_type": "stream",
     "text": [
      "<class 'pandas.core.frame.DataFrame'>\n",
      "RangeIndex: 8790 entries, 0 to 8789\n",
      "Data columns (total 10 columns):\n",
      " #   Column        Non-Null Count  Dtype \n",
      "---  ------        --------------  ----- \n",
      " 0   show_id       8790 non-null   object\n",
      " 1   type          8790 non-null   object\n",
      " 2   title         8790 non-null   object\n",
      " 3   director      8790 non-null   object\n",
      " 4   country       8790 non-null   object\n",
      " 5   date_added    8790 non-null   object\n",
      " 6   release_year  8790 non-null   int64 \n",
      " 7   rating        8790 non-null   object\n",
      " 8   duration      8790 non-null   object\n",
      " 9   listed_in     8790 non-null   object\n",
      "dtypes: int64(1), object(9)\n",
      "memory usage: 686.8+ KB\n"
     ]
    }
   ],
   "source": [
    "df.info()"
   ]
  },
  {
   "cell_type": "code",
   "execution_count": 27,
   "id": "429b0660",
   "metadata": {},
   "outputs": [
    {
     "data": {
      "text/plain": [
       "'Data Cleaning\\nWe are going to:\\n\\nTreat the Nulls\\nTreat the duplicates\\nPopulate missing rows\\nDrop unneeded columns\\nSplit columns\\nExtra steps and more explanation on the process will be explained through the code comment'"
      ]
     },
     "execution_count": 27,
     "metadata": {},
     "output_type": "execute_result"
    }
   ],
   "source": [
    "'''Data Cleaning\n",
    "We are going to:\n",
    "\n",
    "Treat the Nulls\n",
    "Treat the duplicates\n",
    "Populate missing rows\n",
    "Drop unneeded columns\n",
    "Split columns\n",
    "Extra steps and more explanation on the process will be explained through the code comment'''"
   ]
  },
  {
   "cell_type": "code",
   "execution_count": 28,
   "id": "cf3caa54",
   "metadata": {},
   "outputs": [
    {
     "data": {
      "application/vnd.microsoft.datawrangler.viewer.v0+json": {
       "columns": [
        {
         "name": "index",
         "rawType": "int64",
         "type": "integer"
        },
        {
         "name": "rating",
         "rawType": "object",
         "type": "string"
        }
       ],
       "ref": "2ddf8959-8c9b-42fb-936b-7e3f98a354a9",
       "rows": [
        [
         "0",
         "PG-13"
        ],
        [
         "1",
         "TV-MA"
        ],
        [
         "2",
         "TV-MA"
        ],
        [
         "3",
         "TV-PG"
        ],
        [
         "4",
         "TV-MA"
        ],
        [
         "5",
         "TV-14"
        ],
        [
         "6",
         "PG-13"
        ],
        [
         "7",
         "TV-Y7"
        ],
        [
         "8",
         "TV-MA"
        ],
        [
         "9",
         "TV-Y7"
        ],
        [
         "10",
         "TV-Y7"
        ],
        [
         "11",
         "TV-Y7"
        ],
        [
         "12",
         "TV-14"
        ],
        [
         "13",
         "TV-14"
        ],
        [
         "14",
         "TV-MA"
        ],
        [
         "15",
         "TV-MA"
        ],
        [
         "16",
         "TV-14"
        ],
        [
         "17",
         "TV-MA"
        ],
        [
         "18",
         "TV-MA"
        ],
        [
         "19",
         "TV-Y"
        ],
        [
         "20",
         "TV-Y"
        ],
        [
         "21",
         "TV-Y"
        ],
        [
         "22",
         "TV-Y"
        ],
        [
         "23",
         "PG"
        ],
        [
         "24",
         "TV-MA"
        ],
        [
         "25",
         "TV-MA"
        ],
        [
         "26",
         "TV-Y"
        ],
        [
         "27",
         "TV-14"
        ],
        [
         "28",
         "TV-Y"
        ],
        [
         "29",
         "TV-14"
        ],
        [
         "30",
         "PG-13"
        ],
        [
         "31",
         "PG-13"
        ],
        [
         "32",
         "PG-13"
        ],
        [
         "33",
         "TV-MA"
        ],
        [
         "34",
         "TV-MA"
        ],
        [
         "35",
         "TV-MA"
        ],
        [
         "36",
         "TV-Y7"
        ],
        [
         "37",
         "TV-PG"
        ],
        [
         "38",
         "TV-MA"
        ],
        [
         "39",
         "TV-Y7"
        ],
        [
         "40",
         "TV-Y"
        ],
        [
         "41",
         "TV-Y7"
        ],
        [
         "42",
         "TV-Y7"
        ],
        [
         "43",
         "TV-14"
        ],
        [
         "44",
         "TV-MA"
        ],
        [
         "45",
         "TV-PG"
        ],
        [
         "46",
         "TV-MA"
        ],
        [
         "47",
         "TV-Y"
        ],
        [
         "48",
         "TV-14"
        ],
        [
         "49",
         "TV-14"
        ]
       ],
       "shape": {
        "columns": 1,
        "rows": 8790
       }
      },
      "text/plain": [
       "0       PG-13\n",
       "1       TV-MA\n",
       "2       TV-MA\n",
       "3       TV-PG\n",
       "4       TV-MA\n",
       "        ...  \n",
       "8785    TV-PG\n",
       "8786    TV-Y7\n",
       "8787    TV-PG\n",
       "8788     TV-Y\n",
       "8789    TV-Y7\n",
       "Name: rating, Length: 8790, dtype: object"
      ]
     },
     "execution_count": 28,
     "metadata": {},
     "output_type": "execute_result"
    }
   ],
   "source": [
    "df['rating']"
   ]
  },
  {
   "cell_type": "code",
   "execution_count": 29,
   "id": "14acf769",
   "metadata": {},
   "outputs": [],
   "source": [
    "df.drop(columns='rating', inplace=True)"
   ]
  },
  {
   "cell_type": "code",
   "execution_count": 30,
   "id": "1ab8eb18",
   "metadata": {},
   "outputs": [
    {
     "data": {
      "application/vnd.microsoft.datawrangler.viewer.v0+json": {
       "columns": [
        {
         "name": "index",
         "rawType": "int64",
         "type": "integer"
        },
        {
         "name": "show_id",
         "rawType": "object",
         "type": "string"
        },
        {
         "name": "type",
         "rawType": "object",
         "type": "string"
        },
        {
         "name": "title",
         "rawType": "object",
         "type": "string"
        },
        {
         "name": "director",
         "rawType": "object",
         "type": "string"
        },
        {
         "name": "country",
         "rawType": "object",
         "type": "string"
        },
        {
         "name": "date_added",
         "rawType": "object",
         "type": "string"
        },
        {
         "name": "release_year",
         "rawType": "int64",
         "type": "integer"
        },
        {
         "name": "duration",
         "rawType": "object",
         "type": "string"
        },
        {
         "name": "listed_in",
         "rawType": "object",
         "type": "string"
        }
       ],
       "ref": "c09e06ca-3a22-463b-9606-ec77b3c96928",
       "rows": [
        [
         "0",
         "s1",
         "Movie",
         "Dick Johnson Is Dead",
         "Kirsten Johnson",
         "United States",
         "9/25/2021",
         "2020",
         "90 min",
         "Documentaries"
        ],
        [
         "1",
         "s3",
         "TV Show",
         "Ganglands",
         "Julien Leclercq",
         "France",
         "9/24/2021",
         "2021",
         "1 Season",
         "Crime TV Shows, International TV Shows, TV Action & Adventure"
        ],
        [
         "2",
         "s6",
         "TV Show",
         "Midnight Mass",
         "Mike Flanagan",
         "United States",
         "9/24/2021",
         "2021",
         "1 Season",
         "TV Dramas, TV Horror, TV Mysteries"
        ],
        [
         "3",
         "s14",
         "Movie",
         "Confessions of an Invisible Girl",
         "Bruno Garotti",
         "Brazil",
         "9/22/2021",
         "2021",
         "91 min",
         "Children & Family Movies, Comedies"
        ],
        [
         "4",
         "s8",
         "Movie",
         "Sankofa",
         "Haile Gerima",
         "United States",
         "9/24/2021",
         "1993",
         "125 min",
         "Dramas, Independent Movies, International Movies"
        ],
        [
         "5",
         "s9",
         "TV Show",
         "The Great British Baking Show",
         "Andy Devonshire",
         "United Kingdom",
         "9/24/2021",
         "2021",
         "9 Seasons",
         "British TV Shows, Reality TV"
        ],
        [
         "6",
         "s10",
         "Movie",
         "The Starling",
         "Theodore Melfi",
         "United States",
         "9/24/2021",
         "2021",
         "104 min",
         "Comedies, Dramas"
        ],
        [
         "7",
         "s939",
         "Movie",
         "Motu Patlu in the Game of Zones",
         "Suhas Kadav",
         "India",
         "5/1/2021",
         "2019",
         "87 min",
         "Children & Family Movies, Comedies, Music & Musicals"
        ],
        [
         "8",
         "s13",
         "Movie",
         "Je Suis Karl",
         "Christian Schwochow",
         "Germany",
         "9/23/2021",
         "2021",
         "127 min",
         "Dramas, International Movies"
        ],
        [
         "9",
         "s940",
         "Movie",
         "Motu Patlu in Wonderland",
         "Suhas Kadav",
         "India",
         "5/1/2021",
         "2013",
         "76 min",
         "Children & Family Movies, Music & Musicals"
        ],
        [
         "10",
         "s941",
         "Movie",
         "Motu Patlu: Deep Sea Adventure",
         "Suhas Kadav",
         "India",
         "5/1/2021",
         "2014",
         "76 min",
         "Children & Family Movies, Comedies"
        ],
        [
         "11",
         "s942",
         "Movie",
         "Motu Patlu: Mission Moon",
         "Suhas Kadav",
         "India",
         "5/1/2021",
         "2013",
         "71 min",
         "Children & Family Movies, Comedies"
        ],
        [
         "12",
         "s852",
         "Movie",
         "99 Songs (Tamil)",
         "Not Given",
         "Pakistan",
         "5/21/2021",
         "2021",
         "131 min",
         "Dramas, International Movies, Music & Musicals"
        ],
        [
         "13",
         "s471",
         "Movie",
         "Bridgerton - The Afterparty",
         "Krysia Plonka, Kristian Mercado",
         "United States",
         "7/13/2021",
         "2021",
         "39 min",
         "Movies"
        ],
        [
         "14",
         "s730",
         "Movie",
         "Bling Empire - The Afterparty",
         "Krysia Plonka, Kristian Mercado",
         "United States",
         "6/12/2021",
         "2021",
         "36 min",
         "Movies"
        ],
        [
         "15",
         "s731",
         "Movie",
         "Cobra Kai - The Afterparty",
         "Krysia Plonka, Kristian Mercado",
         "United States",
         "6/12/2021",
         "2021",
         "34 min",
         "Movies"
        ],
        [
         "16",
         "s913",
         "Movie",
         "The Circle - The Afterparty",
         "Krysia Plonka, Kristian Mercado",
         "United States",
         "5/7/2021",
         "2021",
         "35 min",
         "Comedies"
        ],
        [
         "17",
         "s4",
         "TV Show",
         "Jailbirds New Orleans",
         "Not Given",
         "Pakistan",
         "9/24/2021",
         "2021",
         "1 Season",
         "Docuseries, Reality TV"
        ],
        [
         "18",
         "s15",
         "TV Show",
         "Crime Stories: India Detectives",
         "Not Given",
         "Pakistan",
         "9/22/2021",
         "2021",
         "1 Season",
         "British TV Shows, Crime TV Shows, Docuseries"
        ],
        [
         "19",
         "s3232",
         "Movie",
         "True: Winter Wishes",
         "Mark Thornton, Todd Kauffman",
         "United States",
         "11/26/2019",
         "2019",
         "46 min",
         "Children & Family Movies"
        ],
        [
         "20",
         "s4832",
         "TV Show",
         "True: Magical Friends",
         "Mark Thornton, Todd Kauffman",
         "United States",
         "6/15/2018",
         "2018",
         "1 Season",
         "Kids' TV"
        ],
        [
         "21",
         "s4833",
         "TV Show",
         "True: Wonderful Wishes",
         "Mark Thornton, Todd Kauffman",
         "United States",
         "6/15/2018",
         "2018",
         "1 Season",
         "Kids' TV"
        ],
        [
         "22",
         "s4857",
         "TV Show",
         "Dance & Sing with True",
         "Mark Thornton, Todd Kauffman",
         "United States",
         "5/18/2018",
         "2018",
         "1 Season",
         "Kids' TV"
        ],
        [
         "23",
         "s7",
         "Movie",
         "My Little Pony: A New Generation",
         "Robert Cullen, JosÃ© Luis Ucha",
         "Not Given",
         "9/24/2021",
         "2021",
         "91 min",
         "Children & Family Movies"
        ],
        [
         "24",
         "s12",
         "TV Show",
         "Bangkok Breaking",
         "Kongkiat Komesiri",
         "Not Given",
         "9/23/2021",
         "2021",
         "1 Season",
         "Crime TV Shows, International TV Shows, TV Action & Adventure"
        ],
        [
         "25",
         "s17",
         "Movie",
         "Europe's Most Dangerous Man: Otto Skorzeny in Spain",
         "Pedro de Echave GarcÃ­a, Pablo AzorÃ­n Williams",
         "Not Given",
         "9/22/2021",
         "2020",
         "67 min",
         "Documentaries, International Movies"
        ],
        [
         "26",
         "s7930",
         "Movie",
         "Samudri Lootere",
         "Anirban Majumder",
         "Not Given",
         "6/18/2019",
         "2018",
         "65 min",
         "Children & Family Movies"
        ],
        [
         "27",
         "s21",
         "TV Show",
         "Monsters Inside: The 24 Faces of Billy Milligan",
         "Olivier Megaton",
         "United States",
         "9/22/2021",
         "2021",
         "1 Season",
         "Crime TV Shows, Docuseries, International TV Shows"
        ],
        [
         "28",
         "s24",
         "Movie",
         "Go! Go! Cory Carson: Chrissy Takes the Wheel",
         "Alex Woo, Stanley Moore",
         "United States",
         "9/21/2021",
         "2021",
         "61 min",
         "Children & Family Movies"
        ],
        [
         "29",
         "s25",
         "Movie",
         "Jeans",
         "S. Shankar",
         "India",
         "9/21/2021",
         "1998",
         "166 min",
         "Comedies, International Movies, Romantic Movies"
        ],
        [
         "30",
         "s28",
         "Movie",
         "Grown Ups",
         "Dennis Dugan",
         "United States",
         "9/20/2021",
         "2010",
         "103 min",
         "Comedies"
        ],
        [
         "31",
         "s29",
         "Movie",
         "Dark Skies",
         "Scott Stewart",
         "United States",
         "9/19/2021",
         "2013",
         "97 min",
         "Horror Movies, Sci-Fi & Fantasy"
        ],
        [
         "32",
         "s30",
         "Movie",
         "Paranoia",
         "Robert Luketic",
         "United States",
         "9/19/2021",
         "2013",
         "106 min",
         "Thrillers"
        ],
        [
         "33",
         "s20",
         "TV Show",
         "Jaguar",
         "Not Given",
         "Pakistan",
         "9/22/2021",
         "2021",
         "1 Season",
         "International TV Shows, Spanish-Language TV Shows, TV Action & Adventure"
        ],
        [
         "34",
         "s32",
         "TV Show",
         "Chicago Party Aunt",
         "Not Given",
         "Pakistan",
         "9/17/2021",
         "2021",
         "1 Season",
         "TV Comedies"
        ],
        [
         "35",
         "s34",
         "TV Show",
         "Squid Game",
         "Not Given",
         "Pakistan",
         "9/17/2021",
         "2021",
         "1 Season",
         "International TV Shows, TV Dramas, TV Thrillers"
        ],
        [
         "36",
         "s35",
         "TV Show",
         "Tayo and Little Wizards",
         "Not Given",
         "Pakistan",
         "9/17/2021",
         "2020",
         "1 Season",
         "Kids' TV"
        ],
        [
         "37",
         "s75",
         "TV Show",
         "The World's Most Amazing Vacation Rentals",
         "Not Given",
         "Pakistan",
         "9/14/2021",
         "2021",
         "2 Seasons",
         "Reality TV"
        ],
        [
         "38",
         "s84",
         "TV Show",
         "Metal Shop Masters",
         "Not Given",
         "Pakistan",
         "9/10/2021",
         "2021",
         "1 Season",
         "Reality TV"
        ],
        [
         "39",
         "s86",
         "TV Show",
         "PokÃ©mon Master Journeys: The Series",
         "Not Given",
         "Pakistan",
         "9/10/2021",
         "2021",
         "1 Season",
         "Anime Series, Kids' TV"
        ],
        [
         "40",
         "s88",
         "TV Show",
         "Titipo Titipo",
         "Not Given",
         "Pakistan",
         "9/10/2021",
         "2019",
         "2 Seasons",
         "Kids' TV, Korean TV Shows"
        ],
        [
         "41",
         "s90",
         "TV Show",
         "Mighty Raju",
         "Not Given",
         "Pakistan",
         "9/9/2021",
         "2017",
         "4 Seasons",
         "Kids' TV"
        ],
        [
         "42",
         "s101",
         "TV Show",
         "Tobot Galaxy Detectives",
         "Not Given",
         "Pakistan",
         "9/7/2021",
         "2019",
         "2 Seasons",
         "Kids' TV"
        ],
        [
         "43",
         "s122",
         "TV Show",
         "Hotel Del Luna",
         "Not Given",
         "Pakistan",
         "9/2/2021",
         "2019",
         "1 Season",
         "International TV Shows, Romantic TV Shows, TV Comedies"
        ],
        [
         "44",
         "s133",
         "TV Show",
         "Brave Animated Series",
         "Not Given",
         "Pakistan",
         "9/1/2021",
         "2021",
         "1 Season",
         "International TV Shows, TV Action & Adventure, TV Comedies"
        ],
        [
         "45",
         "s148",
         "TV Show",
         "How to Be a Cowboy",
         "Not Given",
         "Pakistan",
         "9/1/2021",
         "2021",
         "1 Season",
         "Reality TV"
        ],
        [
         "46",
         "s166",
         "TV Show",
         "Oldsters",
         "Not Given",
         "Pakistan",
         "9/1/2021",
         "2019",
         "1 Season",
         "Crime TV Shows, International TV Shows, Spanish-Language TV Shows"
        ],
        [
         "47",
         "s190",
         "TV Show",
         "Bread Barbershop",
         "Not Given",
         "Pakistan",
         "8/28/2021",
         "2020",
         "2 Seasons",
         "Kids' TV, TV Comedies"
        ],
        [
         "48",
         "s182",
         "TV Show",
         "Turning Point: 9/11 and the War on Terror",
         "Not Given",
         "Pakistan",
         "9/1/2021",
         "2021",
         "1 Season",
         "Docuseries"
        ],
        [
         "49",
         "s187",
         "TV Show",
         "Hometown Cha-Cha-Cha",
         "Not Given",
         "Pakistan",
         "8/29/2021",
         "2021",
         "1 Season",
         "International TV Shows, Romantic TV Shows, TV Comedies"
        ]
       ],
       "shape": {
        "columns": 9,
        "rows": 8790
       }
      },
      "text/html": [
       "<div>\n",
       "<style scoped>\n",
       "    .dataframe tbody tr th:only-of-type {\n",
       "        vertical-align: middle;\n",
       "    }\n",
       "\n",
       "    .dataframe tbody tr th {\n",
       "        vertical-align: top;\n",
       "    }\n",
       "\n",
       "    .dataframe thead th {\n",
       "        text-align: right;\n",
       "    }\n",
       "</style>\n",
       "<table border=\"1\" class=\"dataframe\">\n",
       "  <thead>\n",
       "    <tr style=\"text-align: right;\">\n",
       "      <th></th>\n",
       "      <th>show_id</th>\n",
       "      <th>type</th>\n",
       "      <th>title</th>\n",
       "      <th>director</th>\n",
       "      <th>country</th>\n",
       "      <th>date_added</th>\n",
       "      <th>release_year</th>\n",
       "      <th>duration</th>\n",
       "      <th>listed_in</th>\n",
       "    </tr>\n",
       "  </thead>\n",
       "  <tbody>\n",
       "    <tr>\n",
       "      <th>0</th>\n",
       "      <td>s1</td>\n",
       "      <td>Movie</td>\n",
       "      <td>Dick Johnson Is Dead</td>\n",
       "      <td>Kirsten Johnson</td>\n",
       "      <td>United States</td>\n",
       "      <td>9/25/2021</td>\n",
       "      <td>2020</td>\n",
       "      <td>90 min</td>\n",
       "      <td>Documentaries</td>\n",
       "    </tr>\n",
       "    <tr>\n",
       "      <th>1</th>\n",
       "      <td>s3</td>\n",
       "      <td>TV Show</td>\n",
       "      <td>Ganglands</td>\n",
       "      <td>Julien Leclercq</td>\n",
       "      <td>France</td>\n",
       "      <td>9/24/2021</td>\n",
       "      <td>2021</td>\n",
       "      <td>1 Season</td>\n",
       "      <td>Crime TV Shows, International TV Shows, TV Act...</td>\n",
       "    </tr>\n",
       "    <tr>\n",
       "      <th>2</th>\n",
       "      <td>s6</td>\n",
       "      <td>TV Show</td>\n",
       "      <td>Midnight Mass</td>\n",
       "      <td>Mike Flanagan</td>\n",
       "      <td>United States</td>\n",
       "      <td>9/24/2021</td>\n",
       "      <td>2021</td>\n",
       "      <td>1 Season</td>\n",
       "      <td>TV Dramas, TV Horror, TV Mysteries</td>\n",
       "    </tr>\n",
       "    <tr>\n",
       "      <th>3</th>\n",
       "      <td>s14</td>\n",
       "      <td>Movie</td>\n",
       "      <td>Confessions of an Invisible Girl</td>\n",
       "      <td>Bruno Garotti</td>\n",
       "      <td>Brazil</td>\n",
       "      <td>9/22/2021</td>\n",
       "      <td>2021</td>\n",
       "      <td>91 min</td>\n",
       "      <td>Children &amp; Family Movies, Comedies</td>\n",
       "    </tr>\n",
       "    <tr>\n",
       "      <th>4</th>\n",
       "      <td>s8</td>\n",
       "      <td>Movie</td>\n",
       "      <td>Sankofa</td>\n",
       "      <td>Haile Gerima</td>\n",
       "      <td>United States</td>\n",
       "      <td>9/24/2021</td>\n",
       "      <td>1993</td>\n",
       "      <td>125 min</td>\n",
       "      <td>Dramas, Independent Movies, International Movies</td>\n",
       "    </tr>\n",
       "    <tr>\n",
       "      <th>...</th>\n",
       "      <td>...</td>\n",
       "      <td>...</td>\n",
       "      <td>...</td>\n",
       "      <td>...</td>\n",
       "      <td>...</td>\n",
       "      <td>...</td>\n",
       "      <td>...</td>\n",
       "      <td>...</td>\n",
       "      <td>...</td>\n",
       "    </tr>\n",
       "    <tr>\n",
       "      <th>8785</th>\n",
       "      <td>s8797</td>\n",
       "      <td>TV Show</td>\n",
       "      <td>Yunus Emre</td>\n",
       "      <td>Not Given</td>\n",
       "      <td>Turkey</td>\n",
       "      <td>1/17/2017</td>\n",
       "      <td>2016</td>\n",
       "      <td>2 Seasons</td>\n",
       "      <td>International TV Shows, TV Dramas</td>\n",
       "    </tr>\n",
       "    <tr>\n",
       "      <th>8786</th>\n",
       "      <td>s8798</td>\n",
       "      <td>TV Show</td>\n",
       "      <td>Zak Storm</td>\n",
       "      <td>Not Given</td>\n",
       "      <td>United States</td>\n",
       "      <td>9/13/2018</td>\n",
       "      <td>2016</td>\n",
       "      <td>3 Seasons</td>\n",
       "      <td>Kids' TV</td>\n",
       "    </tr>\n",
       "    <tr>\n",
       "      <th>8787</th>\n",
       "      <td>s8801</td>\n",
       "      <td>TV Show</td>\n",
       "      <td>Zindagi Gulzar Hai</td>\n",
       "      <td>Not Given</td>\n",
       "      <td>Pakistan</td>\n",
       "      <td>12/15/2016</td>\n",
       "      <td>2012</td>\n",
       "      <td>1 Season</td>\n",
       "      <td>International TV Shows, Romantic TV Shows, TV ...</td>\n",
       "    </tr>\n",
       "    <tr>\n",
       "      <th>8788</th>\n",
       "      <td>s8784</td>\n",
       "      <td>TV Show</td>\n",
       "      <td>Yoko</td>\n",
       "      <td>Not Given</td>\n",
       "      <td>Pakistan</td>\n",
       "      <td>6/23/2018</td>\n",
       "      <td>2016</td>\n",
       "      <td>1 Season</td>\n",
       "      <td>Kids' TV</td>\n",
       "    </tr>\n",
       "    <tr>\n",
       "      <th>8789</th>\n",
       "      <td>s8786</td>\n",
       "      <td>TV Show</td>\n",
       "      <td>YOM</td>\n",
       "      <td>Not Given</td>\n",
       "      <td>Pakistan</td>\n",
       "      <td>6/7/2018</td>\n",
       "      <td>2016</td>\n",
       "      <td>1 Season</td>\n",
       "      <td>Kids' TV</td>\n",
       "    </tr>\n",
       "  </tbody>\n",
       "</table>\n",
       "<p>8790 rows × 9 columns</p>\n",
       "</div>"
      ],
      "text/plain": [
       "     show_id     type                             title         director  \\\n",
       "0         s1    Movie              Dick Johnson Is Dead  Kirsten Johnson   \n",
       "1         s3  TV Show                         Ganglands  Julien Leclercq   \n",
       "2         s6  TV Show                     Midnight Mass    Mike Flanagan   \n",
       "3        s14    Movie  Confessions of an Invisible Girl    Bruno Garotti   \n",
       "4         s8    Movie                           Sankofa     Haile Gerima   \n",
       "...      ...      ...                               ...              ...   \n",
       "8785   s8797  TV Show                        Yunus Emre        Not Given   \n",
       "8786   s8798  TV Show                         Zak Storm        Not Given   \n",
       "8787   s8801  TV Show                Zindagi Gulzar Hai        Not Given   \n",
       "8788   s8784  TV Show                              Yoko        Not Given   \n",
       "8789   s8786  TV Show                               YOM        Not Given   \n",
       "\n",
       "            country  date_added  release_year   duration  \\\n",
       "0     United States   9/25/2021          2020     90 min   \n",
       "1            France   9/24/2021          2021   1 Season   \n",
       "2     United States   9/24/2021          2021   1 Season   \n",
       "3            Brazil   9/22/2021          2021     91 min   \n",
       "4     United States   9/24/2021          1993    125 min   \n",
       "...             ...         ...           ...        ...   \n",
       "8785         Turkey   1/17/2017          2016  2 Seasons   \n",
       "8786  United States   9/13/2018          2016  3 Seasons   \n",
       "8787       Pakistan  12/15/2016          2012   1 Season   \n",
       "8788       Pakistan   6/23/2018          2016   1 Season   \n",
       "8789       Pakistan    6/7/2018          2016   1 Season   \n",
       "\n",
       "                                              listed_in  \n",
       "0                                         Documentaries  \n",
       "1     Crime TV Shows, International TV Shows, TV Act...  \n",
       "2                    TV Dramas, TV Horror, TV Mysteries  \n",
       "3                    Children & Family Movies, Comedies  \n",
       "4      Dramas, Independent Movies, International Movies  \n",
       "...                                                 ...  \n",
       "8785                  International TV Shows, TV Dramas  \n",
       "8786                                           Kids' TV  \n",
       "8787  International TV Shows, Romantic TV Shows, TV ...  \n",
       "8788                                           Kids' TV  \n",
       "8789                                           Kids' TV  \n",
       "\n",
       "[8790 rows x 9 columns]"
      ]
     },
     "execution_count": 30,
     "metadata": {},
     "output_type": "execute_result"
    }
   ],
   "source": [
    "df"
   ]
  },
  {
   "cell_type": "code",
   "execution_count": 31,
   "id": "adf6c1b9",
   "metadata": {},
   "outputs": [],
   "source": [
    "new_col_name=[]\n",
    "for i in df.columns:\n",
    "    new_col_name.append(i.capitalize())"
   ]
  },
  {
   "cell_type": "code",
   "execution_count": 32,
   "id": "49d1f6fd",
   "metadata": {},
   "outputs": [],
   "source": [
    "df.columns=new_col_name"
   ]
  },
  {
   "cell_type": "code",
   "execution_count": 33,
   "id": "9eb6c4b6",
   "metadata": {},
   "outputs": [
    {
     "data": {
      "application/vnd.microsoft.datawrangler.viewer.v0+json": {
       "columns": [
        {
         "name": "index",
         "rawType": "int64",
         "type": "integer"
        },
        {
         "name": "Show_id",
         "rawType": "object",
         "type": "string"
        },
        {
         "name": "Type",
         "rawType": "object",
         "type": "string"
        },
        {
         "name": "Title",
         "rawType": "object",
         "type": "string"
        },
        {
         "name": "Director",
         "rawType": "object",
         "type": "string"
        },
        {
         "name": "Country",
         "rawType": "object",
         "type": "string"
        },
        {
         "name": "Date_added",
         "rawType": "object",
         "type": "string"
        },
        {
         "name": "Release_year",
         "rawType": "int64",
         "type": "integer"
        },
        {
         "name": "Duration",
         "rawType": "object",
         "type": "string"
        },
        {
         "name": "Listed_in",
         "rawType": "object",
         "type": "string"
        }
       ],
       "ref": "d8d52a30-c130-4d9e-831f-92dea55ca3f0",
       "rows": [
        [
         "0",
         "s1",
         "Movie",
         "Dick Johnson Is Dead",
         "Kirsten Johnson",
         "United States",
         "9/25/2021",
         "2020",
         "90 min",
         "Documentaries"
        ],
        [
         "1",
         "s3",
         "TV Show",
         "Ganglands",
         "Julien Leclercq",
         "France",
         "9/24/2021",
         "2021",
         "1 Season",
         "Crime TV Shows, International TV Shows, TV Action & Adventure"
        ],
        [
         "2",
         "s6",
         "TV Show",
         "Midnight Mass",
         "Mike Flanagan",
         "United States",
         "9/24/2021",
         "2021",
         "1 Season",
         "TV Dramas, TV Horror, TV Mysteries"
        ],
        [
         "3",
         "s14",
         "Movie",
         "Confessions of an Invisible Girl",
         "Bruno Garotti",
         "Brazil",
         "9/22/2021",
         "2021",
         "91 min",
         "Children & Family Movies, Comedies"
        ],
        [
         "4",
         "s8",
         "Movie",
         "Sankofa",
         "Haile Gerima",
         "United States",
         "9/24/2021",
         "1993",
         "125 min",
         "Dramas, Independent Movies, International Movies"
        ],
        [
         "5",
         "s9",
         "TV Show",
         "The Great British Baking Show",
         "Andy Devonshire",
         "United Kingdom",
         "9/24/2021",
         "2021",
         "9 Seasons",
         "British TV Shows, Reality TV"
        ],
        [
         "6",
         "s10",
         "Movie",
         "The Starling",
         "Theodore Melfi",
         "United States",
         "9/24/2021",
         "2021",
         "104 min",
         "Comedies, Dramas"
        ],
        [
         "7",
         "s939",
         "Movie",
         "Motu Patlu in the Game of Zones",
         "Suhas Kadav",
         "India",
         "5/1/2021",
         "2019",
         "87 min",
         "Children & Family Movies, Comedies, Music & Musicals"
        ],
        [
         "8",
         "s13",
         "Movie",
         "Je Suis Karl",
         "Christian Schwochow",
         "Germany",
         "9/23/2021",
         "2021",
         "127 min",
         "Dramas, International Movies"
        ],
        [
         "9",
         "s940",
         "Movie",
         "Motu Patlu in Wonderland",
         "Suhas Kadav",
         "India",
         "5/1/2021",
         "2013",
         "76 min",
         "Children & Family Movies, Music & Musicals"
        ],
        [
         "10",
         "s941",
         "Movie",
         "Motu Patlu: Deep Sea Adventure",
         "Suhas Kadav",
         "India",
         "5/1/2021",
         "2014",
         "76 min",
         "Children & Family Movies, Comedies"
        ],
        [
         "11",
         "s942",
         "Movie",
         "Motu Patlu: Mission Moon",
         "Suhas Kadav",
         "India",
         "5/1/2021",
         "2013",
         "71 min",
         "Children & Family Movies, Comedies"
        ],
        [
         "12",
         "s852",
         "Movie",
         "99 Songs (Tamil)",
         "Not Given",
         "Pakistan",
         "5/21/2021",
         "2021",
         "131 min",
         "Dramas, International Movies, Music & Musicals"
        ],
        [
         "13",
         "s471",
         "Movie",
         "Bridgerton - The Afterparty",
         "Krysia Plonka, Kristian Mercado",
         "United States",
         "7/13/2021",
         "2021",
         "39 min",
         "Movies"
        ],
        [
         "14",
         "s730",
         "Movie",
         "Bling Empire - The Afterparty",
         "Krysia Plonka, Kristian Mercado",
         "United States",
         "6/12/2021",
         "2021",
         "36 min",
         "Movies"
        ],
        [
         "15",
         "s731",
         "Movie",
         "Cobra Kai - The Afterparty",
         "Krysia Plonka, Kristian Mercado",
         "United States",
         "6/12/2021",
         "2021",
         "34 min",
         "Movies"
        ],
        [
         "16",
         "s913",
         "Movie",
         "The Circle - The Afterparty",
         "Krysia Plonka, Kristian Mercado",
         "United States",
         "5/7/2021",
         "2021",
         "35 min",
         "Comedies"
        ],
        [
         "17",
         "s4",
         "TV Show",
         "Jailbirds New Orleans",
         "Not Given",
         "Pakistan",
         "9/24/2021",
         "2021",
         "1 Season",
         "Docuseries, Reality TV"
        ],
        [
         "18",
         "s15",
         "TV Show",
         "Crime Stories: India Detectives",
         "Not Given",
         "Pakistan",
         "9/22/2021",
         "2021",
         "1 Season",
         "British TV Shows, Crime TV Shows, Docuseries"
        ],
        [
         "19",
         "s3232",
         "Movie",
         "True: Winter Wishes",
         "Mark Thornton, Todd Kauffman",
         "United States",
         "11/26/2019",
         "2019",
         "46 min",
         "Children & Family Movies"
        ],
        [
         "20",
         "s4832",
         "TV Show",
         "True: Magical Friends",
         "Mark Thornton, Todd Kauffman",
         "United States",
         "6/15/2018",
         "2018",
         "1 Season",
         "Kids' TV"
        ],
        [
         "21",
         "s4833",
         "TV Show",
         "True: Wonderful Wishes",
         "Mark Thornton, Todd Kauffman",
         "United States",
         "6/15/2018",
         "2018",
         "1 Season",
         "Kids' TV"
        ],
        [
         "22",
         "s4857",
         "TV Show",
         "Dance & Sing with True",
         "Mark Thornton, Todd Kauffman",
         "United States",
         "5/18/2018",
         "2018",
         "1 Season",
         "Kids' TV"
        ],
        [
         "23",
         "s7",
         "Movie",
         "My Little Pony: A New Generation",
         "Robert Cullen, JosÃ© Luis Ucha",
         "Not Given",
         "9/24/2021",
         "2021",
         "91 min",
         "Children & Family Movies"
        ],
        [
         "24",
         "s12",
         "TV Show",
         "Bangkok Breaking",
         "Kongkiat Komesiri",
         "Not Given",
         "9/23/2021",
         "2021",
         "1 Season",
         "Crime TV Shows, International TV Shows, TV Action & Adventure"
        ],
        [
         "25",
         "s17",
         "Movie",
         "Europe's Most Dangerous Man: Otto Skorzeny in Spain",
         "Pedro de Echave GarcÃ­a, Pablo AzorÃ­n Williams",
         "Not Given",
         "9/22/2021",
         "2020",
         "67 min",
         "Documentaries, International Movies"
        ],
        [
         "26",
         "s7930",
         "Movie",
         "Samudri Lootere",
         "Anirban Majumder",
         "Not Given",
         "6/18/2019",
         "2018",
         "65 min",
         "Children & Family Movies"
        ],
        [
         "27",
         "s21",
         "TV Show",
         "Monsters Inside: The 24 Faces of Billy Milligan",
         "Olivier Megaton",
         "United States",
         "9/22/2021",
         "2021",
         "1 Season",
         "Crime TV Shows, Docuseries, International TV Shows"
        ],
        [
         "28",
         "s24",
         "Movie",
         "Go! Go! Cory Carson: Chrissy Takes the Wheel",
         "Alex Woo, Stanley Moore",
         "United States",
         "9/21/2021",
         "2021",
         "61 min",
         "Children & Family Movies"
        ],
        [
         "29",
         "s25",
         "Movie",
         "Jeans",
         "S. Shankar",
         "India",
         "9/21/2021",
         "1998",
         "166 min",
         "Comedies, International Movies, Romantic Movies"
        ],
        [
         "30",
         "s28",
         "Movie",
         "Grown Ups",
         "Dennis Dugan",
         "United States",
         "9/20/2021",
         "2010",
         "103 min",
         "Comedies"
        ],
        [
         "31",
         "s29",
         "Movie",
         "Dark Skies",
         "Scott Stewart",
         "United States",
         "9/19/2021",
         "2013",
         "97 min",
         "Horror Movies, Sci-Fi & Fantasy"
        ],
        [
         "32",
         "s30",
         "Movie",
         "Paranoia",
         "Robert Luketic",
         "United States",
         "9/19/2021",
         "2013",
         "106 min",
         "Thrillers"
        ],
        [
         "33",
         "s20",
         "TV Show",
         "Jaguar",
         "Not Given",
         "Pakistan",
         "9/22/2021",
         "2021",
         "1 Season",
         "International TV Shows, Spanish-Language TV Shows, TV Action & Adventure"
        ],
        [
         "34",
         "s32",
         "TV Show",
         "Chicago Party Aunt",
         "Not Given",
         "Pakistan",
         "9/17/2021",
         "2021",
         "1 Season",
         "TV Comedies"
        ],
        [
         "35",
         "s34",
         "TV Show",
         "Squid Game",
         "Not Given",
         "Pakistan",
         "9/17/2021",
         "2021",
         "1 Season",
         "International TV Shows, TV Dramas, TV Thrillers"
        ],
        [
         "36",
         "s35",
         "TV Show",
         "Tayo and Little Wizards",
         "Not Given",
         "Pakistan",
         "9/17/2021",
         "2020",
         "1 Season",
         "Kids' TV"
        ],
        [
         "37",
         "s75",
         "TV Show",
         "The World's Most Amazing Vacation Rentals",
         "Not Given",
         "Pakistan",
         "9/14/2021",
         "2021",
         "2 Seasons",
         "Reality TV"
        ],
        [
         "38",
         "s84",
         "TV Show",
         "Metal Shop Masters",
         "Not Given",
         "Pakistan",
         "9/10/2021",
         "2021",
         "1 Season",
         "Reality TV"
        ],
        [
         "39",
         "s86",
         "TV Show",
         "PokÃ©mon Master Journeys: The Series",
         "Not Given",
         "Pakistan",
         "9/10/2021",
         "2021",
         "1 Season",
         "Anime Series, Kids' TV"
        ],
        [
         "40",
         "s88",
         "TV Show",
         "Titipo Titipo",
         "Not Given",
         "Pakistan",
         "9/10/2021",
         "2019",
         "2 Seasons",
         "Kids' TV, Korean TV Shows"
        ],
        [
         "41",
         "s90",
         "TV Show",
         "Mighty Raju",
         "Not Given",
         "Pakistan",
         "9/9/2021",
         "2017",
         "4 Seasons",
         "Kids' TV"
        ],
        [
         "42",
         "s101",
         "TV Show",
         "Tobot Galaxy Detectives",
         "Not Given",
         "Pakistan",
         "9/7/2021",
         "2019",
         "2 Seasons",
         "Kids' TV"
        ],
        [
         "43",
         "s122",
         "TV Show",
         "Hotel Del Luna",
         "Not Given",
         "Pakistan",
         "9/2/2021",
         "2019",
         "1 Season",
         "International TV Shows, Romantic TV Shows, TV Comedies"
        ],
        [
         "44",
         "s133",
         "TV Show",
         "Brave Animated Series",
         "Not Given",
         "Pakistan",
         "9/1/2021",
         "2021",
         "1 Season",
         "International TV Shows, TV Action & Adventure, TV Comedies"
        ],
        [
         "45",
         "s148",
         "TV Show",
         "How to Be a Cowboy",
         "Not Given",
         "Pakistan",
         "9/1/2021",
         "2021",
         "1 Season",
         "Reality TV"
        ],
        [
         "46",
         "s166",
         "TV Show",
         "Oldsters",
         "Not Given",
         "Pakistan",
         "9/1/2021",
         "2019",
         "1 Season",
         "Crime TV Shows, International TV Shows, Spanish-Language TV Shows"
        ],
        [
         "47",
         "s190",
         "TV Show",
         "Bread Barbershop",
         "Not Given",
         "Pakistan",
         "8/28/2021",
         "2020",
         "2 Seasons",
         "Kids' TV, TV Comedies"
        ],
        [
         "48",
         "s182",
         "TV Show",
         "Turning Point: 9/11 and the War on Terror",
         "Not Given",
         "Pakistan",
         "9/1/2021",
         "2021",
         "1 Season",
         "Docuseries"
        ],
        [
         "49",
         "s187",
         "TV Show",
         "Hometown Cha-Cha-Cha",
         "Not Given",
         "Pakistan",
         "8/29/2021",
         "2021",
         "1 Season",
         "International TV Shows, Romantic TV Shows, TV Comedies"
        ]
       ],
       "shape": {
        "columns": 9,
        "rows": 8790
       }
      },
      "text/html": [
       "<div>\n",
       "<style scoped>\n",
       "    .dataframe tbody tr th:only-of-type {\n",
       "        vertical-align: middle;\n",
       "    }\n",
       "\n",
       "    .dataframe tbody tr th {\n",
       "        vertical-align: top;\n",
       "    }\n",
       "\n",
       "    .dataframe thead th {\n",
       "        text-align: right;\n",
       "    }\n",
       "</style>\n",
       "<table border=\"1\" class=\"dataframe\">\n",
       "  <thead>\n",
       "    <tr style=\"text-align: right;\">\n",
       "      <th></th>\n",
       "      <th>Show_id</th>\n",
       "      <th>Type</th>\n",
       "      <th>Title</th>\n",
       "      <th>Director</th>\n",
       "      <th>Country</th>\n",
       "      <th>Date_added</th>\n",
       "      <th>Release_year</th>\n",
       "      <th>Duration</th>\n",
       "      <th>Listed_in</th>\n",
       "    </tr>\n",
       "  </thead>\n",
       "  <tbody>\n",
       "    <tr>\n",
       "      <th>0</th>\n",
       "      <td>s1</td>\n",
       "      <td>Movie</td>\n",
       "      <td>Dick Johnson Is Dead</td>\n",
       "      <td>Kirsten Johnson</td>\n",
       "      <td>United States</td>\n",
       "      <td>9/25/2021</td>\n",
       "      <td>2020</td>\n",
       "      <td>90 min</td>\n",
       "      <td>Documentaries</td>\n",
       "    </tr>\n",
       "    <tr>\n",
       "      <th>1</th>\n",
       "      <td>s3</td>\n",
       "      <td>TV Show</td>\n",
       "      <td>Ganglands</td>\n",
       "      <td>Julien Leclercq</td>\n",
       "      <td>France</td>\n",
       "      <td>9/24/2021</td>\n",
       "      <td>2021</td>\n",
       "      <td>1 Season</td>\n",
       "      <td>Crime TV Shows, International TV Shows, TV Act...</td>\n",
       "    </tr>\n",
       "    <tr>\n",
       "      <th>2</th>\n",
       "      <td>s6</td>\n",
       "      <td>TV Show</td>\n",
       "      <td>Midnight Mass</td>\n",
       "      <td>Mike Flanagan</td>\n",
       "      <td>United States</td>\n",
       "      <td>9/24/2021</td>\n",
       "      <td>2021</td>\n",
       "      <td>1 Season</td>\n",
       "      <td>TV Dramas, TV Horror, TV Mysteries</td>\n",
       "    </tr>\n",
       "    <tr>\n",
       "      <th>3</th>\n",
       "      <td>s14</td>\n",
       "      <td>Movie</td>\n",
       "      <td>Confessions of an Invisible Girl</td>\n",
       "      <td>Bruno Garotti</td>\n",
       "      <td>Brazil</td>\n",
       "      <td>9/22/2021</td>\n",
       "      <td>2021</td>\n",
       "      <td>91 min</td>\n",
       "      <td>Children &amp; Family Movies, Comedies</td>\n",
       "    </tr>\n",
       "    <tr>\n",
       "      <th>4</th>\n",
       "      <td>s8</td>\n",
       "      <td>Movie</td>\n",
       "      <td>Sankofa</td>\n",
       "      <td>Haile Gerima</td>\n",
       "      <td>United States</td>\n",
       "      <td>9/24/2021</td>\n",
       "      <td>1993</td>\n",
       "      <td>125 min</td>\n",
       "      <td>Dramas, Independent Movies, International Movies</td>\n",
       "    </tr>\n",
       "    <tr>\n",
       "      <th>...</th>\n",
       "      <td>...</td>\n",
       "      <td>...</td>\n",
       "      <td>...</td>\n",
       "      <td>...</td>\n",
       "      <td>...</td>\n",
       "      <td>...</td>\n",
       "      <td>...</td>\n",
       "      <td>...</td>\n",
       "      <td>...</td>\n",
       "    </tr>\n",
       "    <tr>\n",
       "      <th>8785</th>\n",
       "      <td>s8797</td>\n",
       "      <td>TV Show</td>\n",
       "      <td>Yunus Emre</td>\n",
       "      <td>Not Given</td>\n",
       "      <td>Turkey</td>\n",
       "      <td>1/17/2017</td>\n",
       "      <td>2016</td>\n",
       "      <td>2 Seasons</td>\n",
       "      <td>International TV Shows, TV Dramas</td>\n",
       "    </tr>\n",
       "    <tr>\n",
       "      <th>8786</th>\n",
       "      <td>s8798</td>\n",
       "      <td>TV Show</td>\n",
       "      <td>Zak Storm</td>\n",
       "      <td>Not Given</td>\n",
       "      <td>United States</td>\n",
       "      <td>9/13/2018</td>\n",
       "      <td>2016</td>\n",
       "      <td>3 Seasons</td>\n",
       "      <td>Kids' TV</td>\n",
       "    </tr>\n",
       "    <tr>\n",
       "      <th>8787</th>\n",
       "      <td>s8801</td>\n",
       "      <td>TV Show</td>\n",
       "      <td>Zindagi Gulzar Hai</td>\n",
       "      <td>Not Given</td>\n",
       "      <td>Pakistan</td>\n",
       "      <td>12/15/2016</td>\n",
       "      <td>2012</td>\n",
       "      <td>1 Season</td>\n",
       "      <td>International TV Shows, Romantic TV Shows, TV ...</td>\n",
       "    </tr>\n",
       "    <tr>\n",
       "      <th>8788</th>\n",
       "      <td>s8784</td>\n",
       "      <td>TV Show</td>\n",
       "      <td>Yoko</td>\n",
       "      <td>Not Given</td>\n",
       "      <td>Pakistan</td>\n",
       "      <td>6/23/2018</td>\n",
       "      <td>2016</td>\n",
       "      <td>1 Season</td>\n",
       "      <td>Kids' TV</td>\n",
       "    </tr>\n",
       "    <tr>\n",
       "      <th>8789</th>\n",
       "      <td>s8786</td>\n",
       "      <td>TV Show</td>\n",
       "      <td>YOM</td>\n",
       "      <td>Not Given</td>\n",
       "      <td>Pakistan</td>\n",
       "      <td>6/7/2018</td>\n",
       "      <td>2016</td>\n",
       "      <td>1 Season</td>\n",
       "      <td>Kids' TV</td>\n",
       "    </tr>\n",
       "  </tbody>\n",
       "</table>\n",
       "<p>8790 rows × 9 columns</p>\n",
       "</div>"
      ],
      "text/plain": [
       "     Show_id     Type                             Title         Director  \\\n",
       "0         s1    Movie              Dick Johnson Is Dead  Kirsten Johnson   \n",
       "1         s3  TV Show                         Ganglands  Julien Leclercq   \n",
       "2         s6  TV Show                     Midnight Mass    Mike Flanagan   \n",
       "3        s14    Movie  Confessions of an Invisible Girl    Bruno Garotti   \n",
       "4         s8    Movie                           Sankofa     Haile Gerima   \n",
       "...      ...      ...                               ...              ...   \n",
       "8785   s8797  TV Show                        Yunus Emre        Not Given   \n",
       "8786   s8798  TV Show                         Zak Storm        Not Given   \n",
       "8787   s8801  TV Show                Zindagi Gulzar Hai        Not Given   \n",
       "8788   s8784  TV Show                              Yoko        Not Given   \n",
       "8789   s8786  TV Show                               YOM        Not Given   \n",
       "\n",
       "            Country  Date_added  Release_year   Duration  \\\n",
       "0     United States   9/25/2021          2020     90 min   \n",
       "1            France   9/24/2021          2021   1 Season   \n",
       "2     United States   9/24/2021          2021   1 Season   \n",
       "3            Brazil   9/22/2021          2021     91 min   \n",
       "4     United States   9/24/2021          1993    125 min   \n",
       "...             ...         ...           ...        ...   \n",
       "8785         Turkey   1/17/2017          2016  2 Seasons   \n",
       "8786  United States   9/13/2018          2016  3 Seasons   \n",
       "8787       Pakistan  12/15/2016          2012   1 Season   \n",
       "8788       Pakistan   6/23/2018          2016   1 Season   \n",
       "8789       Pakistan    6/7/2018          2016   1 Season   \n",
       "\n",
       "                                              Listed_in  \n",
       "0                                         Documentaries  \n",
       "1     Crime TV Shows, International TV Shows, TV Act...  \n",
       "2                    TV Dramas, TV Horror, TV Mysteries  \n",
       "3                    Children & Family Movies, Comedies  \n",
       "4      Dramas, Independent Movies, International Movies  \n",
       "...                                                 ...  \n",
       "8785                  International TV Shows, TV Dramas  \n",
       "8786                                           Kids' TV  \n",
       "8787  International TV Shows, Romantic TV Shows, TV ...  \n",
       "8788                                           Kids' TV  \n",
       "8789                                           Kids' TV  \n",
       "\n",
       "[8790 rows x 9 columns]"
      ]
     },
     "execution_count": 33,
     "metadata": {},
     "output_type": "execute_result"
    }
   ],
   "source": [
    "df"
   ]
  },
  {
   "cell_type": "code",
   "execution_count": 34,
   "id": "c9f39e4f",
   "metadata": {},
   "outputs": [
    {
     "data": {
      "text/plain": [
       "Index(['Show_id', 'Type', 'Title', 'Director', 'Country', 'Date_added',\n",
       "       'Release_year', 'Duration', 'Listed_in'],\n",
       "      dtype='object')"
      ]
     },
     "execution_count": 34,
     "metadata": {},
     "output_type": "execute_result"
    }
   ],
   "source": [
    "df.columns  # Display the column names of the DataFrame"
   ]
  },
  {
   "cell_type": "code",
   "execution_count": 35,
   "id": "78b9d940",
   "metadata": {},
   "outputs": [
    {
     "data": {
      "application/vnd.microsoft.datawrangler.viewer.v0+json": {
       "columns": [
        {
         "name": "index",
         "rawType": "int64",
         "type": "integer"
        },
        {
         "name": "0",
         "rawType": "bool",
         "type": "boolean"
        }
       ],
       "ref": "bd2ece75-14bf-4b9f-b2f3-864d2cd37b93",
       "rows": [
        [
         "0",
         "False"
        ],
        [
         "1",
         "False"
        ],
        [
         "2",
         "False"
        ],
        [
         "3",
         "False"
        ],
        [
         "4",
         "False"
        ],
        [
         "5",
         "False"
        ],
        [
         "6",
         "False"
        ],
        [
         "7",
         "False"
        ],
        [
         "8",
         "False"
        ],
        [
         "9",
         "False"
        ],
        [
         "10",
         "False"
        ],
        [
         "11",
         "False"
        ],
        [
         "12",
         "False"
        ],
        [
         "13",
         "False"
        ],
        [
         "14",
         "False"
        ],
        [
         "15",
         "False"
        ],
        [
         "16",
         "False"
        ],
        [
         "17",
         "False"
        ],
        [
         "18",
         "False"
        ],
        [
         "19",
         "False"
        ],
        [
         "20",
         "False"
        ],
        [
         "21",
         "False"
        ],
        [
         "22",
         "False"
        ],
        [
         "23",
         "False"
        ],
        [
         "24",
         "False"
        ],
        [
         "25",
         "False"
        ],
        [
         "26",
         "False"
        ],
        [
         "27",
         "False"
        ],
        [
         "28",
         "False"
        ],
        [
         "29",
         "False"
        ],
        [
         "30",
         "False"
        ],
        [
         "31",
         "False"
        ],
        [
         "32",
         "False"
        ],
        [
         "33",
         "False"
        ],
        [
         "34",
         "False"
        ],
        [
         "35",
         "False"
        ],
        [
         "36",
         "False"
        ],
        [
         "37",
         "False"
        ],
        [
         "38",
         "False"
        ],
        [
         "39",
         "False"
        ],
        [
         "40",
         "False"
        ],
        [
         "41",
         "False"
        ],
        [
         "42",
         "False"
        ],
        [
         "43",
         "False"
        ],
        [
         "44",
         "False"
        ],
        [
         "45",
         "False"
        ],
        [
         "46",
         "False"
        ],
        [
         "47",
         "False"
        ],
        [
         "48",
         "False"
        ],
        [
         "49",
         "False"
        ]
       ],
       "shape": {
        "columns": 1,
        "rows": 8790
       }
      },
      "text/plain": [
       "0       False\n",
       "1       False\n",
       "2       False\n",
       "3       False\n",
       "4       False\n",
       "        ...  \n",
       "8785    False\n",
       "8786    False\n",
       "8787    False\n",
       "8788    False\n",
       "8789    False\n",
       "Length: 8790, dtype: bool"
      ]
     },
     "execution_count": 35,
     "metadata": {},
     "output_type": "execute_result"
    }
   ],
   "source": [
    "#droping duplicate rows\n",
    "df.duplicated()"
   ]
  },
  {
   "cell_type": "code",
   "execution_count": 36,
   "id": "cc3c4e00",
   "metadata": {},
   "outputs": [
    {
     "data": {
      "text/plain": [
       "np.int64(0)"
      ]
     },
     "execution_count": 36,
     "metadata": {},
     "output_type": "execute_result"
    }
   ],
   "source": [
    "df.duplicated().sum()"
   ]
  },
  {
   "cell_type": "code",
   "execution_count": 37,
   "id": "e2b7e2eb",
   "metadata": {},
   "outputs": [
    {
     "data": {
      "application/vnd.microsoft.datawrangler.viewer.v0+json": {
       "columns": [
        {
         "name": "index",
         "rawType": "int64",
         "type": "integer"
        },
        {
         "name": "Show_id",
         "rawType": "bool",
         "type": "boolean"
        },
        {
         "name": "Type",
         "rawType": "bool",
         "type": "boolean"
        },
        {
         "name": "Title",
         "rawType": "bool",
         "type": "boolean"
        },
        {
         "name": "Director",
         "rawType": "bool",
         "type": "boolean"
        },
        {
         "name": "Country",
         "rawType": "bool",
         "type": "boolean"
        },
        {
         "name": "Date_added",
         "rawType": "bool",
         "type": "boolean"
        },
        {
         "name": "Release_year",
         "rawType": "bool",
         "type": "boolean"
        },
        {
         "name": "Duration",
         "rawType": "bool",
         "type": "boolean"
        },
        {
         "name": "Listed_in",
         "rawType": "bool",
         "type": "boolean"
        }
       ],
       "ref": "f0aa10fb-8d31-4bab-bae3-c4ef5e709a72",
       "rows": [
        [
         "0",
         "False",
         "False",
         "False",
         "False",
         "False",
         "False",
         "False",
         "False",
         "False"
        ],
        [
         "1",
         "False",
         "False",
         "False",
         "False",
         "False",
         "False",
         "False",
         "False",
         "False"
        ],
        [
         "2",
         "False",
         "False",
         "False",
         "False",
         "False",
         "False",
         "False",
         "False",
         "False"
        ],
        [
         "3",
         "False",
         "False",
         "False",
         "False",
         "False",
         "False",
         "False",
         "False",
         "False"
        ],
        [
         "4",
         "False",
         "False",
         "False",
         "False",
         "False",
         "False",
         "False",
         "False",
         "False"
        ],
        [
         "5",
         "False",
         "False",
         "False",
         "False",
         "False",
         "False",
         "False",
         "False",
         "False"
        ],
        [
         "6",
         "False",
         "False",
         "False",
         "False",
         "False",
         "False",
         "False",
         "False",
         "False"
        ],
        [
         "7",
         "False",
         "False",
         "False",
         "False",
         "False",
         "False",
         "False",
         "False",
         "False"
        ],
        [
         "8",
         "False",
         "False",
         "False",
         "False",
         "False",
         "False",
         "False",
         "False",
         "False"
        ],
        [
         "9",
         "False",
         "False",
         "False",
         "False",
         "False",
         "False",
         "False",
         "False",
         "False"
        ],
        [
         "10",
         "False",
         "False",
         "False",
         "False",
         "False",
         "False",
         "False",
         "False",
         "False"
        ],
        [
         "11",
         "False",
         "False",
         "False",
         "False",
         "False",
         "False",
         "False",
         "False",
         "False"
        ],
        [
         "12",
         "False",
         "False",
         "False",
         "False",
         "False",
         "False",
         "False",
         "False",
         "False"
        ],
        [
         "13",
         "False",
         "False",
         "False",
         "False",
         "False",
         "False",
         "False",
         "False",
         "False"
        ],
        [
         "14",
         "False",
         "False",
         "False",
         "False",
         "False",
         "False",
         "False",
         "False",
         "False"
        ],
        [
         "15",
         "False",
         "False",
         "False",
         "False",
         "False",
         "False",
         "False",
         "False",
         "False"
        ],
        [
         "16",
         "False",
         "False",
         "False",
         "False",
         "False",
         "False",
         "False",
         "False",
         "False"
        ],
        [
         "17",
         "False",
         "False",
         "False",
         "False",
         "False",
         "False",
         "False",
         "False",
         "False"
        ],
        [
         "18",
         "False",
         "False",
         "False",
         "False",
         "False",
         "False",
         "False",
         "False",
         "False"
        ],
        [
         "19",
         "False",
         "False",
         "False",
         "False",
         "False",
         "False",
         "False",
         "False",
         "False"
        ],
        [
         "20",
         "False",
         "False",
         "False",
         "False",
         "False",
         "False",
         "False",
         "False",
         "False"
        ],
        [
         "21",
         "False",
         "False",
         "False",
         "False",
         "False",
         "False",
         "False",
         "False",
         "False"
        ],
        [
         "22",
         "False",
         "False",
         "False",
         "False",
         "False",
         "False",
         "False",
         "False",
         "False"
        ],
        [
         "23",
         "False",
         "False",
         "False",
         "False",
         "False",
         "False",
         "False",
         "False",
         "False"
        ],
        [
         "24",
         "False",
         "False",
         "False",
         "False",
         "False",
         "False",
         "False",
         "False",
         "False"
        ],
        [
         "25",
         "False",
         "False",
         "False",
         "False",
         "False",
         "False",
         "False",
         "False",
         "False"
        ],
        [
         "26",
         "False",
         "False",
         "False",
         "False",
         "False",
         "False",
         "False",
         "False",
         "False"
        ],
        [
         "27",
         "False",
         "False",
         "False",
         "False",
         "False",
         "False",
         "False",
         "False",
         "False"
        ],
        [
         "28",
         "False",
         "False",
         "False",
         "False",
         "False",
         "False",
         "False",
         "False",
         "False"
        ],
        [
         "29",
         "False",
         "False",
         "False",
         "False",
         "False",
         "False",
         "False",
         "False",
         "False"
        ],
        [
         "30",
         "False",
         "False",
         "False",
         "False",
         "False",
         "False",
         "False",
         "False",
         "False"
        ],
        [
         "31",
         "False",
         "False",
         "False",
         "False",
         "False",
         "False",
         "False",
         "False",
         "False"
        ],
        [
         "32",
         "False",
         "False",
         "False",
         "False",
         "False",
         "False",
         "False",
         "False",
         "False"
        ],
        [
         "33",
         "False",
         "False",
         "False",
         "False",
         "False",
         "False",
         "False",
         "False",
         "False"
        ],
        [
         "34",
         "False",
         "False",
         "False",
         "False",
         "False",
         "False",
         "False",
         "False",
         "False"
        ],
        [
         "35",
         "False",
         "False",
         "False",
         "False",
         "False",
         "False",
         "False",
         "False",
         "False"
        ],
        [
         "36",
         "False",
         "False",
         "False",
         "False",
         "False",
         "False",
         "False",
         "False",
         "False"
        ],
        [
         "37",
         "False",
         "False",
         "False",
         "False",
         "False",
         "False",
         "False",
         "False",
         "False"
        ],
        [
         "38",
         "False",
         "False",
         "False",
         "False",
         "False",
         "False",
         "False",
         "False",
         "False"
        ],
        [
         "39",
         "False",
         "False",
         "False",
         "False",
         "False",
         "False",
         "False",
         "False",
         "False"
        ],
        [
         "40",
         "False",
         "False",
         "False",
         "False",
         "False",
         "False",
         "False",
         "False",
         "False"
        ],
        [
         "41",
         "False",
         "False",
         "False",
         "False",
         "False",
         "False",
         "False",
         "False",
         "False"
        ],
        [
         "42",
         "False",
         "False",
         "False",
         "False",
         "False",
         "False",
         "False",
         "False",
         "False"
        ],
        [
         "43",
         "False",
         "False",
         "False",
         "False",
         "False",
         "False",
         "False",
         "False",
         "False"
        ],
        [
         "44",
         "False",
         "False",
         "False",
         "False",
         "False",
         "False",
         "False",
         "False",
         "False"
        ],
        [
         "45",
         "False",
         "False",
         "False",
         "False",
         "False",
         "False",
         "False",
         "False",
         "False"
        ],
        [
         "46",
         "False",
         "False",
         "False",
         "False",
         "False",
         "False",
         "False",
         "False",
         "False"
        ],
        [
         "47",
         "False",
         "False",
         "False",
         "False",
         "False",
         "False",
         "False",
         "False",
         "False"
        ],
        [
         "48",
         "False",
         "False",
         "False",
         "False",
         "False",
         "False",
         "False",
         "False",
         "False"
        ],
        [
         "49",
         "False",
         "False",
         "False",
         "False",
         "False",
         "False",
         "False",
         "False",
         "False"
        ]
       ],
       "shape": {
        "columns": 9,
        "rows": 8790
       }
      },
      "text/html": [
       "<div>\n",
       "<style scoped>\n",
       "    .dataframe tbody tr th:only-of-type {\n",
       "        vertical-align: middle;\n",
       "    }\n",
       "\n",
       "    .dataframe tbody tr th {\n",
       "        vertical-align: top;\n",
       "    }\n",
       "\n",
       "    .dataframe thead th {\n",
       "        text-align: right;\n",
       "    }\n",
       "</style>\n",
       "<table border=\"1\" class=\"dataframe\">\n",
       "  <thead>\n",
       "    <tr style=\"text-align: right;\">\n",
       "      <th></th>\n",
       "      <th>Show_id</th>\n",
       "      <th>Type</th>\n",
       "      <th>Title</th>\n",
       "      <th>Director</th>\n",
       "      <th>Country</th>\n",
       "      <th>Date_added</th>\n",
       "      <th>Release_year</th>\n",
       "      <th>Duration</th>\n",
       "      <th>Listed_in</th>\n",
       "    </tr>\n",
       "  </thead>\n",
       "  <tbody>\n",
       "    <tr>\n",
       "      <th>0</th>\n",
       "      <td>False</td>\n",
       "      <td>False</td>\n",
       "      <td>False</td>\n",
       "      <td>False</td>\n",
       "      <td>False</td>\n",
       "      <td>False</td>\n",
       "      <td>False</td>\n",
       "      <td>False</td>\n",
       "      <td>False</td>\n",
       "    </tr>\n",
       "    <tr>\n",
       "      <th>1</th>\n",
       "      <td>False</td>\n",
       "      <td>False</td>\n",
       "      <td>False</td>\n",
       "      <td>False</td>\n",
       "      <td>False</td>\n",
       "      <td>False</td>\n",
       "      <td>False</td>\n",
       "      <td>False</td>\n",
       "      <td>False</td>\n",
       "    </tr>\n",
       "    <tr>\n",
       "      <th>2</th>\n",
       "      <td>False</td>\n",
       "      <td>False</td>\n",
       "      <td>False</td>\n",
       "      <td>False</td>\n",
       "      <td>False</td>\n",
       "      <td>False</td>\n",
       "      <td>False</td>\n",
       "      <td>False</td>\n",
       "      <td>False</td>\n",
       "    </tr>\n",
       "    <tr>\n",
       "      <th>3</th>\n",
       "      <td>False</td>\n",
       "      <td>False</td>\n",
       "      <td>False</td>\n",
       "      <td>False</td>\n",
       "      <td>False</td>\n",
       "      <td>False</td>\n",
       "      <td>False</td>\n",
       "      <td>False</td>\n",
       "      <td>False</td>\n",
       "    </tr>\n",
       "    <tr>\n",
       "      <th>4</th>\n",
       "      <td>False</td>\n",
       "      <td>False</td>\n",
       "      <td>False</td>\n",
       "      <td>False</td>\n",
       "      <td>False</td>\n",
       "      <td>False</td>\n",
       "      <td>False</td>\n",
       "      <td>False</td>\n",
       "      <td>False</td>\n",
       "    </tr>\n",
       "    <tr>\n",
       "      <th>...</th>\n",
       "      <td>...</td>\n",
       "      <td>...</td>\n",
       "      <td>...</td>\n",
       "      <td>...</td>\n",
       "      <td>...</td>\n",
       "      <td>...</td>\n",
       "      <td>...</td>\n",
       "      <td>...</td>\n",
       "      <td>...</td>\n",
       "    </tr>\n",
       "    <tr>\n",
       "      <th>8785</th>\n",
       "      <td>False</td>\n",
       "      <td>False</td>\n",
       "      <td>False</td>\n",
       "      <td>False</td>\n",
       "      <td>False</td>\n",
       "      <td>False</td>\n",
       "      <td>False</td>\n",
       "      <td>False</td>\n",
       "      <td>False</td>\n",
       "    </tr>\n",
       "    <tr>\n",
       "      <th>8786</th>\n",
       "      <td>False</td>\n",
       "      <td>False</td>\n",
       "      <td>False</td>\n",
       "      <td>False</td>\n",
       "      <td>False</td>\n",
       "      <td>False</td>\n",
       "      <td>False</td>\n",
       "      <td>False</td>\n",
       "      <td>False</td>\n",
       "    </tr>\n",
       "    <tr>\n",
       "      <th>8787</th>\n",
       "      <td>False</td>\n",
       "      <td>False</td>\n",
       "      <td>False</td>\n",
       "      <td>False</td>\n",
       "      <td>False</td>\n",
       "      <td>False</td>\n",
       "      <td>False</td>\n",
       "      <td>False</td>\n",
       "      <td>False</td>\n",
       "    </tr>\n",
       "    <tr>\n",
       "      <th>8788</th>\n",
       "      <td>False</td>\n",
       "      <td>False</td>\n",
       "      <td>False</td>\n",
       "      <td>False</td>\n",
       "      <td>False</td>\n",
       "      <td>False</td>\n",
       "      <td>False</td>\n",
       "      <td>False</td>\n",
       "      <td>False</td>\n",
       "    </tr>\n",
       "    <tr>\n",
       "      <th>8789</th>\n",
       "      <td>False</td>\n",
       "      <td>False</td>\n",
       "      <td>False</td>\n",
       "      <td>False</td>\n",
       "      <td>False</td>\n",
       "      <td>False</td>\n",
       "      <td>False</td>\n",
       "      <td>False</td>\n",
       "      <td>False</td>\n",
       "    </tr>\n",
       "  </tbody>\n",
       "</table>\n",
       "<p>8790 rows × 9 columns</p>\n",
       "</div>"
      ],
      "text/plain": [
       "      Show_id   Type  Title  Director  Country  Date_added  Release_year  \\\n",
       "0       False  False  False     False    False       False         False   \n",
       "1       False  False  False     False    False       False         False   \n",
       "2       False  False  False     False    False       False         False   \n",
       "3       False  False  False     False    False       False         False   \n",
       "4       False  False  False     False    False       False         False   \n",
       "...       ...    ...    ...       ...      ...         ...           ...   \n",
       "8785    False  False  False     False    False       False         False   \n",
       "8786    False  False  False     False    False       False         False   \n",
       "8787    False  False  False     False    False       False         False   \n",
       "8788    False  False  False     False    False       False         False   \n",
       "8789    False  False  False     False    False       False         False   \n",
       "\n",
       "      Duration  Listed_in  \n",
       "0        False      False  \n",
       "1        False      False  \n",
       "2        False      False  \n",
       "3        False      False  \n",
       "4        False      False  \n",
       "...        ...        ...  \n",
       "8785     False      False  \n",
       "8786     False      False  \n",
       "8787     False      False  \n",
       "8788     False      False  \n",
       "8789     False      False  \n",
       "\n",
       "[8790 rows x 9 columns]"
      ]
     },
     "execution_count": 37,
     "metadata": {},
     "output_type": "execute_result"
    }
   ],
   "source": [
    "#remove na values\n",
    "df.isna()"
   ]
  },
  {
   "cell_type": "code",
   "execution_count": 38,
   "id": "8241905e",
   "metadata": {},
   "outputs": [
    {
     "data": {
      "application/vnd.microsoft.datawrangler.viewer.v0+json": {
       "columns": [
        {
         "name": "index",
         "rawType": "object",
         "type": "string"
        },
        {
         "name": "0",
         "rawType": "int64",
         "type": "integer"
        }
       ],
       "ref": "efbfac64-c0e4-4140-a3c8-8d230cef2ce7",
       "rows": [
        [
         "Show_id",
         "0"
        ],
        [
         "Type",
         "0"
        ],
        [
         "Title",
         "0"
        ],
        [
         "Director",
         "0"
        ],
        [
         "Country",
         "0"
        ],
        [
         "Date_added",
         "0"
        ],
        [
         "Release_year",
         "0"
        ],
        [
         "Duration",
         "0"
        ],
        [
         "Listed_in",
         "0"
        ]
       ],
       "shape": {
        "columns": 1,
        "rows": 9
       }
      },
      "text/plain": [
       "Show_id         0\n",
       "Type            0\n",
       "Title           0\n",
       "Director        0\n",
       "Country         0\n",
       "Date_added      0\n",
       "Release_year    0\n",
       "Duration        0\n",
       "Listed_in       0\n",
       "dtype: int64"
      ]
     },
     "execution_count": 38,
     "metadata": {},
     "output_type": "execute_result"
    }
   ],
   "source": [
    "df.isna().sum()"
   ]
  },
  {
   "cell_type": "code",
   "execution_count": 39,
   "id": "d934b7e2",
   "metadata": {},
   "outputs": [
    {
     "data": {
      "application/vnd.microsoft.datawrangler.viewer.v0+json": {
       "columns": [
        {
         "name": "index",
         "rawType": "int64",
         "type": "integer"
        },
        {
         "name": "Show_id",
         "rawType": "object",
         "type": "string"
        },
        {
         "name": "Type",
         "rawType": "object",
         "type": "string"
        },
        {
         "name": "Title",
         "rawType": "object",
         "type": "string"
        },
        {
         "name": "Director",
         "rawType": "object",
         "type": "string"
        },
        {
         "name": "Country",
         "rawType": "object",
         "type": "string"
        },
        {
         "name": "Date_added",
         "rawType": "object",
         "type": "string"
        },
        {
         "name": "Release_year",
         "rawType": "int64",
         "type": "integer"
        },
        {
         "name": "Duration",
         "rawType": "object",
         "type": "string"
        },
        {
         "name": "Listed_in",
         "rawType": "object",
         "type": "string"
        }
       ],
       "ref": "be08f44e-9713-47ac-93ee-1a5abe65010f",
       "rows": [
        [
         "0",
         "s1",
         "Movie",
         "Dick Johnson Is Dead",
         "Kirsten Johnson",
         "United States",
         "9/25/2021",
         "2020",
         "90 min",
         "Documentaries"
        ],
        [
         "1",
         "s3",
         "TV Show",
         "Ganglands",
         "Julien Leclercq",
         "France",
         "9/24/2021",
         "2021",
         "1 Season",
         "Crime TV Shows, International TV Shows, TV Action & Adventure"
        ],
        [
         "2",
         "s6",
         "TV Show",
         "Midnight Mass",
         "Mike Flanagan",
         "United States",
         "9/24/2021",
         "2021",
         "1 Season",
         "TV Dramas, TV Horror, TV Mysteries"
        ],
        [
         "3",
         "s14",
         "Movie",
         "Confessions of an Invisible Girl",
         "Bruno Garotti",
         "Brazil",
         "9/22/2021",
         "2021",
         "91 min",
         "Children & Family Movies, Comedies"
        ],
        [
         "4",
         "s8",
         "Movie",
         "Sankofa",
         "Haile Gerima",
         "United States",
         "9/24/2021",
         "1993",
         "125 min",
         "Dramas, Independent Movies, International Movies"
        ]
       ],
       "shape": {
        "columns": 9,
        "rows": 5
       }
      },
      "text/html": [
       "<div>\n",
       "<style scoped>\n",
       "    .dataframe tbody tr th:only-of-type {\n",
       "        vertical-align: middle;\n",
       "    }\n",
       "\n",
       "    .dataframe tbody tr th {\n",
       "        vertical-align: top;\n",
       "    }\n",
       "\n",
       "    .dataframe thead th {\n",
       "        text-align: right;\n",
       "    }\n",
       "</style>\n",
       "<table border=\"1\" class=\"dataframe\">\n",
       "  <thead>\n",
       "    <tr style=\"text-align: right;\">\n",
       "      <th></th>\n",
       "      <th>Show_id</th>\n",
       "      <th>Type</th>\n",
       "      <th>Title</th>\n",
       "      <th>Director</th>\n",
       "      <th>Country</th>\n",
       "      <th>Date_added</th>\n",
       "      <th>Release_year</th>\n",
       "      <th>Duration</th>\n",
       "      <th>Listed_in</th>\n",
       "    </tr>\n",
       "  </thead>\n",
       "  <tbody>\n",
       "    <tr>\n",
       "      <th>0</th>\n",
       "      <td>s1</td>\n",
       "      <td>Movie</td>\n",
       "      <td>Dick Johnson Is Dead</td>\n",
       "      <td>Kirsten Johnson</td>\n",
       "      <td>United States</td>\n",
       "      <td>9/25/2021</td>\n",
       "      <td>2020</td>\n",
       "      <td>90 min</td>\n",
       "      <td>Documentaries</td>\n",
       "    </tr>\n",
       "    <tr>\n",
       "      <th>1</th>\n",
       "      <td>s3</td>\n",
       "      <td>TV Show</td>\n",
       "      <td>Ganglands</td>\n",
       "      <td>Julien Leclercq</td>\n",
       "      <td>France</td>\n",
       "      <td>9/24/2021</td>\n",
       "      <td>2021</td>\n",
       "      <td>1 Season</td>\n",
       "      <td>Crime TV Shows, International TV Shows, TV Act...</td>\n",
       "    </tr>\n",
       "    <tr>\n",
       "      <th>2</th>\n",
       "      <td>s6</td>\n",
       "      <td>TV Show</td>\n",
       "      <td>Midnight Mass</td>\n",
       "      <td>Mike Flanagan</td>\n",
       "      <td>United States</td>\n",
       "      <td>9/24/2021</td>\n",
       "      <td>2021</td>\n",
       "      <td>1 Season</td>\n",
       "      <td>TV Dramas, TV Horror, TV Mysteries</td>\n",
       "    </tr>\n",
       "    <tr>\n",
       "      <th>3</th>\n",
       "      <td>s14</td>\n",
       "      <td>Movie</td>\n",
       "      <td>Confessions of an Invisible Girl</td>\n",
       "      <td>Bruno Garotti</td>\n",
       "      <td>Brazil</td>\n",
       "      <td>9/22/2021</td>\n",
       "      <td>2021</td>\n",
       "      <td>91 min</td>\n",
       "      <td>Children &amp; Family Movies, Comedies</td>\n",
       "    </tr>\n",
       "    <tr>\n",
       "      <th>4</th>\n",
       "      <td>s8</td>\n",
       "      <td>Movie</td>\n",
       "      <td>Sankofa</td>\n",
       "      <td>Haile Gerima</td>\n",
       "      <td>United States</td>\n",
       "      <td>9/24/2021</td>\n",
       "      <td>1993</td>\n",
       "      <td>125 min</td>\n",
       "      <td>Dramas, Independent Movies, International Movies</td>\n",
       "    </tr>\n",
       "  </tbody>\n",
       "</table>\n",
       "</div>"
      ],
      "text/plain": [
       "  Show_id     Type                             Title         Director  \\\n",
       "0      s1    Movie              Dick Johnson Is Dead  Kirsten Johnson   \n",
       "1      s3  TV Show                         Ganglands  Julien Leclercq   \n",
       "2      s6  TV Show                     Midnight Mass    Mike Flanagan   \n",
       "3     s14    Movie  Confessions of an Invisible Girl    Bruno Garotti   \n",
       "4      s8    Movie                           Sankofa     Haile Gerima   \n",
       "\n",
       "         Country Date_added  Release_year  Duration  \\\n",
       "0  United States  9/25/2021          2020    90 min   \n",
       "1         France  9/24/2021          2021  1 Season   \n",
       "2  United States  9/24/2021          2021  1 Season   \n",
       "3         Brazil  9/22/2021          2021    91 min   \n",
       "4  United States  9/24/2021          1993   125 min   \n",
       "\n",
       "                                           Listed_in  \n",
       "0                                      Documentaries  \n",
       "1  Crime TV Shows, International TV Shows, TV Act...  \n",
       "2                 TV Dramas, TV Horror, TV Mysteries  \n",
       "3                 Children & Family Movies, Comedies  \n",
       "4   Dramas, Independent Movies, International Movies  "
      ]
     },
     "execution_count": 39,
     "metadata": {},
     "output_type": "execute_result"
    }
   ],
   "source": [
    "df.head()"
   ]
  },
  {
   "cell_type": "code",
   "execution_count": 40,
   "id": "a9747e40",
   "metadata": {},
   "outputs": [
    {
     "data": {
      "text/plain": [
       "array(['s1', 's3', 's6', ..., 's8801', 's8784', 's8786'], dtype=object)"
      ]
     },
     "execution_count": 40,
     "metadata": {},
     "output_type": "execute_result"
    }
   ],
   "source": [
    "df['Show_id'].unique()  # Display unique values in the 'Show_id' column"
   ]
  },
  {
   "cell_type": "code",
   "execution_count": 41,
   "id": "88743ce3",
   "metadata": {},
   "outputs": [],
   "source": [
    "df['Show_id']=df['Show_id'].str.replace('s','')"
   ]
  },
  {
   "cell_type": "code",
   "execution_count": 42,
   "id": "f8478efc",
   "metadata": {},
   "outputs": [
    {
     "data": {
      "application/vnd.microsoft.datawrangler.viewer.v0+json": {
       "columns": [
        {
         "name": "index",
         "rawType": "int64",
         "type": "integer"
        },
        {
         "name": "Show_id",
         "rawType": "object",
         "type": "string"
        }
       ],
       "ref": "d125b886-56d0-4d9d-9326-6431ebe5f315",
       "rows": [
        [
         "0",
         "1"
        ],
        [
         "1",
         "3"
        ],
        [
         "2",
         "6"
        ],
        [
         "3",
         "14"
        ],
        [
         "4",
         "8"
        ],
        [
         "5",
         "9"
        ],
        [
         "6",
         "10"
        ],
        [
         "7",
         "939"
        ],
        [
         "8",
         "13"
        ],
        [
         "9",
         "940"
        ],
        [
         "10",
         "941"
        ],
        [
         "11",
         "942"
        ],
        [
         "12",
         "852"
        ],
        [
         "13",
         "471"
        ],
        [
         "14",
         "730"
        ],
        [
         "15",
         "731"
        ],
        [
         "16",
         "913"
        ],
        [
         "17",
         "4"
        ],
        [
         "18",
         "15"
        ],
        [
         "19",
         "3232"
        ],
        [
         "20",
         "4832"
        ],
        [
         "21",
         "4833"
        ],
        [
         "22",
         "4857"
        ],
        [
         "23",
         "7"
        ],
        [
         "24",
         "12"
        ],
        [
         "25",
         "17"
        ],
        [
         "26",
         "7930"
        ],
        [
         "27",
         "21"
        ],
        [
         "28",
         "24"
        ],
        [
         "29",
         "25"
        ],
        [
         "30",
         "28"
        ],
        [
         "31",
         "29"
        ],
        [
         "32",
         "30"
        ],
        [
         "33",
         "20"
        ],
        [
         "34",
         "32"
        ],
        [
         "35",
         "34"
        ],
        [
         "36",
         "35"
        ],
        [
         "37",
         "75"
        ],
        [
         "38",
         "84"
        ],
        [
         "39",
         "86"
        ],
        [
         "40",
         "88"
        ],
        [
         "41",
         "90"
        ],
        [
         "42",
         "101"
        ],
        [
         "43",
         "122"
        ],
        [
         "44",
         "133"
        ],
        [
         "45",
         "148"
        ],
        [
         "46",
         "166"
        ],
        [
         "47",
         "190"
        ],
        [
         "48",
         "182"
        ],
        [
         "49",
         "187"
        ]
       ],
       "shape": {
        "columns": 1,
        "rows": 8790
       }
      },
      "text/plain": [
       "0          1\n",
       "1          3\n",
       "2          6\n",
       "3         14\n",
       "4          8\n",
       "        ... \n",
       "8785    8797\n",
       "8786    8798\n",
       "8787    8801\n",
       "8788    8784\n",
       "8789    8786\n",
       "Name: Show_id, Length: 8790, dtype: object"
      ]
     },
     "execution_count": 42,
     "metadata": {},
     "output_type": "execute_result"
    }
   ],
   "source": [
    "df['Show_id']"
   ]
  },
  {
   "cell_type": "code",
   "execution_count": 43,
   "id": "31a255a7",
   "metadata": {},
   "outputs": [
    {
     "data": {
      "application/vnd.microsoft.datawrangler.viewer.v0+json": {
       "columns": [
        {
         "name": "index",
         "rawType": "int64",
         "type": "integer"
        },
        {
         "name": "Show_id",
         "rawType": "object",
         "type": "string"
        },
        {
         "name": "Type",
         "rawType": "object",
         "type": "string"
        },
        {
         "name": "Title",
         "rawType": "object",
         "type": "string"
        },
        {
         "name": "Director",
         "rawType": "object",
         "type": "string"
        },
        {
         "name": "Country",
         "rawType": "object",
         "type": "string"
        },
        {
         "name": "Date_added",
         "rawType": "object",
         "type": "string"
        },
        {
         "name": "Release_year",
         "rawType": "int64",
         "type": "integer"
        },
        {
         "name": "Duration",
         "rawType": "object",
         "type": "string"
        },
        {
         "name": "Listed_in",
         "rawType": "object",
         "type": "string"
        }
       ],
       "ref": "29556b2b-b732-48a2-bff6-4e9db1c5ec15",
       "rows": [
        [
         "0",
         "1",
         "Movie",
         "Dick Johnson Is Dead",
         "Kirsten Johnson",
         "United States",
         "9/25/2021",
         "2020",
         "90 min",
         "Documentaries"
        ],
        [
         "1",
         "3",
         "TV Show",
         "Ganglands",
         "Julien Leclercq",
         "France",
         "9/24/2021",
         "2021",
         "1 Season",
         "Crime TV Shows, International TV Shows, TV Action & Adventure"
        ],
        [
         "2",
         "6",
         "TV Show",
         "Midnight Mass",
         "Mike Flanagan",
         "United States",
         "9/24/2021",
         "2021",
         "1 Season",
         "TV Dramas, TV Horror, TV Mysteries"
        ],
        [
         "3",
         "14",
         "Movie",
         "Confessions of an Invisible Girl",
         "Bruno Garotti",
         "Brazil",
         "9/22/2021",
         "2021",
         "91 min",
         "Children & Family Movies, Comedies"
        ],
        [
         "4",
         "8",
         "Movie",
         "Sankofa",
         "Haile Gerima",
         "United States",
         "9/24/2021",
         "1993",
         "125 min",
         "Dramas, Independent Movies, International Movies"
        ],
        [
         "5",
         "9",
         "TV Show",
         "The Great British Baking Show",
         "Andy Devonshire",
         "United Kingdom",
         "9/24/2021",
         "2021",
         "9 Seasons",
         "British TV Shows, Reality TV"
        ],
        [
         "6",
         "10",
         "Movie",
         "The Starling",
         "Theodore Melfi",
         "United States",
         "9/24/2021",
         "2021",
         "104 min",
         "Comedies, Dramas"
        ],
        [
         "7",
         "939",
         "Movie",
         "Motu Patlu in the Game of Zones",
         "Suhas Kadav",
         "India",
         "5/1/2021",
         "2019",
         "87 min",
         "Children & Family Movies, Comedies, Music & Musicals"
        ],
        [
         "8",
         "13",
         "Movie",
         "Je Suis Karl",
         "Christian Schwochow",
         "Germany",
         "9/23/2021",
         "2021",
         "127 min",
         "Dramas, International Movies"
        ],
        [
         "9",
         "940",
         "Movie",
         "Motu Patlu in Wonderland",
         "Suhas Kadav",
         "India",
         "5/1/2021",
         "2013",
         "76 min",
         "Children & Family Movies, Music & Musicals"
        ],
        [
         "10",
         "941",
         "Movie",
         "Motu Patlu: Deep Sea Adventure",
         "Suhas Kadav",
         "India",
         "5/1/2021",
         "2014",
         "76 min",
         "Children & Family Movies, Comedies"
        ],
        [
         "11",
         "942",
         "Movie",
         "Motu Patlu: Mission Moon",
         "Suhas Kadav",
         "India",
         "5/1/2021",
         "2013",
         "71 min",
         "Children & Family Movies, Comedies"
        ],
        [
         "12",
         "852",
         "Movie",
         "99 Songs (Tamil)",
         "Not Given",
         "Pakistan",
         "5/21/2021",
         "2021",
         "131 min",
         "Dramas, International Movies, Music & Musicals"
        ],
        [
         "13",
         "471",
         "Movie",
         "Bridgerton - The Afterparty",
         "Krysia Plonka, Kristian Mercado",
         "United States",
         "7/13/2021",
         "2021",
         "39 min",
         "Movies"
        ],
        [
         "14",
         "730",
         "Movie",
         "Bling Empire - The Afterparty",
         "Krysia Plonka, Kristian Mercado",
         "United States",
         "6/12/2021",
         "2021",
         "36 min",
         "Movies"
        ],
        [
         "15",
         "731",
         "Movie",
         "Cobra Kai - The Afterparty",
         "Krysia Plonka, Kristian Mercado",
         "United States",
         "6/12/2021",
         "2021",
         "34 min",
         "Movies"
        ],
        [
         "16",
         "913",
         "Movie",
         "The Circle - The Afterparty",
         "Krysia Plonka, Kristian Mercado",
         "United States",
         "5/7/2021",
         "2021",
         "35 min",
         "Comedies"
        ],
        [
         "17",
         "4",
         "TV Show",
         "Jailbirds New Orleans",
         "Not Given",
         "Pakistan",
         "9/24/2021",
         "2021",
         "1 Season",
         "Docuseries, Reality TV"
        ],
        [
         "18",
         "15",
         "TV Show",
         "Crime Stories: India Detectives",
         "Not Given",
         "Pakistan",
         "9/22/2021",
         "2021",
         "1 Season",
         "British TV Shows, Crime TV Shows, Docuseries"
        ],
        [
         "19",
         "3232",
         "Movie",
         "True: Winter Wishes",
         "Mark Thornton, Todd Kauffman",
         "United States",
         "11/26/2019",
         "2019",
         "46 min",
         "Children & Family Movies"
        ],
        [
         "20",
         "4832",
         "TV Show",
         "True: Magical Friends",
         "Mark Thornton, Todd Kauffman",
         "United States",
         "6/15/2018",
         "2018",
         "1 Season",
         "Kids' TV"
        ],
        [
         "21",
         "4833",
         "TV Show",
         "True: Wonderful Wishes",
         "Mark Thornton, Todd Kauffman",
         "United States",
         "6/15/2018",
         "2018",
         "1 Season",
         "Kids' TV"
        ],
        [
         "22",
         "4857",
         "TV Show",
         "Dance & Sing with True",
         "Mark Thornton, Todd Kauffman",
         "United States",
         "5/18/2018",
         "2018",
         "1 Season",
         "Kids' TV"
        ],
        [
         "23",
         "7",
         "Movie",
         "My Little Pony: A New Generation",
         "Robert Cullen, JosÃ© Luis Ucha",
         "Not Given",
         "9/24/2021",
         "2021",
         "91 min",
         "Children & Family Movies"
        ],
        [
         "24",
         "12",
         "TV Show",
         "Bangkok Breaking",
         "Kongkiat Komesiri",
         "Not Given",
         "9/23/2021",
         "2021",
         "1 Season",
         "Crime TV Shows, International TV Shows, TV Action & Adventure"
        ],
        [
         "25",
         "17",
         "Movie",
         "Europe's Most Dangerous Man: Otto Skorzeny in Spain",
         "Pedro de Echave GarcÃ­a, Pablo AzorÃ­n Williams",
         "Not Given",
         "9/22/2021",
         "2020",
         "67 min",
         "Documentaries, International Movies"
        ],
        [
         "26",
         "7930",
         "Movie",
         "Samudri Lootere",
         "Anirban Majumder",
         "Not Given",
         "6/18/2019",
         "2018",
         "65 min",
         "Children & Family Movies"
        ],
        [
         "27",
         "21",
         "TV Show",
         "Monsters Inside: The 24 Faces of Billy Milligan",
         "Olivier Megaton",
         "United States",
         "9/22/2021",
         "2021",
         "1 Season",
         "Crime TV Shows, Docuseries, International TV Shows"
        ],
        [
         "28",
         "24",
         "Movie",
         "Go! Go! Cory Carson: Chrissy Takes the Wheel",
         "Alex Woo, Stanley Moore",
         "United States",
         "9/21/2021",
         "2021",
         "61 min",
         "Children & Family Movies"
        ],
        [
         "29",
         "25",
         "Movie",
         "Jeans",
         "S. Shankar",
         "India",
         "9/21/2021",
         "1998",
         "166 min",
         "Comedies, International Movies, Romantic Movies"
        ],
        [
         "30",
         "28",
         "Movie",
         "Grown Ups",
         "Dennis Dugan",
         "United States",
         "9/20/2021",
         "2010",
         "103 min",
         "Comedies"
        ],
        [
         "31",
         "29",
         "Movie",
         "Dark Skies",
         "Scott Stewart",
         "United States",
         "9/19/2021",
         "2013",
         "97 min",
         "Horror Movies, Sci-Fi & Fantasy"
        ],
        [
         "32",
         "30",
         "Movie",
         "Paranoia",
         "Robert Luketic",
         "United States",
         "9/19/2021",
         "2013",
         "106 min",
         "Thrillers"
        ],
        [
         "33",
         "20",
         "TV Show",
         "Jaguar",
         "Not Given",
         "Pakistan",
         "9/22/2021",
         "2021",
         "1 Season",
         "International TV Shows, Spanish-Language TV Shows, TV Action & Adventure"
        ],
        [
         "34",
         "32",
         "TV Show",
         "Chicago Party Aunt",
         "Not Given",
         "Pakistan",
         "9/17/2021",
         "2021",
         "1 Season",
         "TV Comedies"
        ],
        [
         "35",
         "34",
         "TV Show",
         "Squid Game",
         "Not Given",
         "Pakistan",
         "9/17/2021",
         "2021",
         "1 Season",
         "International TV Shows, TV Dramas, TV Thrillers"
        ],
        [
         "36",
         "35",
         "TV Show",
         "Tayo and Little Wizards",
         "Not Given",
         "Pakistan",
         "9/17/2021",
         "2020",
         "1 Season",
         "Kids' TV"
        ],
        [
         "37",
         "75",
         "TV Show",
         "The World's Most Amazing Vacation Rentals",
         "Not Given",
         "Pakistan",
         "9/14/2021",
         "2021",
         "2 Seasons",
         "Reality TV"
        ],
        [
         "38",
         "84",
         "TV Show",
         "Metal Shop Masters",
         "Not Given",
         "Pakistan",
         "9/10/2021",
         "2021",
         "1 Season",
         "Reality TV"
        ],
        [
         "39",
         "86",
         "TV Show",
         "PokÃ©mon Master Journeys: The Series",
         "Not Given",
         "Pakistan",
         "9/10/2021",
         "2021",
         "1 Season",
         "Anime Series, Kids' TV"
        ],
        [
         "40",
         "88",
         "TV Show",
         "Titipo Titipo",
         "Not Given",
         "Pakistan",
         "9/10/2021",
         "2019",
         "2 Seasons",
         "Kids' TV, Korean TV Shows"
        ],
        [
         "41",
         "90",
         "TV Show",
         "Mighty Raju",
         "Not Given",
         "Pakistan",
         "9/9/2021",
         "2017",
         "4 Seasons",
         "Kids' TV"
        ],
        [
         "42",
         "101",
         "TV Show",
         "Tobot Galaxy Detectives",
         "Not Given",
         "Pakistan",
         "9/7/2021",
         "2019",
         "2 Seasons",
         "Kids' TV"
        ],
        [
         "43",
         "122",
         "TV Show",
         "Hotel Del Luna",
         "Not Given",
         "Pakistan",
         "9/2/2021",
         "2019",
         "1 Season",
         "International TV Shows, Romantic TV Shows, TV Comedies"
        ],
        [
         "44",
         "133",
         "TV Show",
         "Brave Animated Series",
         "Not Given",
         "Pakistan",
         "9/1/2021",
         "2021",
         "1 Season",
         "International TV Shows, TV Action & Adventure, TV Comedies"
        ],
        [
         "45",
         "148",
         "TV Show",
         "How to Be a Cowboy",
         "Not Given",
         "Pakistan",
         "9/1/2021",
         "2021",
         "1 Season",
         "Reality TV"
        ],
        [
         "46",
         "166",
         "TV Show",
         "Oldsters",
         "Not Given",
         "Pakistan",
         "9/1/2021",
         "2019",
         "1 Season",
         "Crime TV Shows, International TV Shows, Spanish-Language TV Shows"
        ],
        [
         "47",
         "190",
         "TV Show",
         "Bread Barbershop",
         "Not Given",
         "Pakistan",
         "8/28/2021",
         "2020",
         "2 Seasons",
         "Kids' TV, TV Comedies"
        ],
        [
         "48",
         "182",
         "TV Show",
         "Turning Point: 9/11 and the War on Terror",
         "Not Given",
         "Pakistan",
         "9/1/2021",
         "2021",
         "1 Season",
         "Docuseries"
        ],
        [
         "49",
         "187",
         "TV Show",
         "Hometown Cha-Cha-Cha",
         "Not Given",
         "Pakistan",
         "8/29/2021",
         "2021",
         "1 Season",
         "International TV Shows, Romantic TV Shows, TV Comedies"
        ]
       ],
       "shape": {
        "columns": 9,
        "rows": 8790
       }
      },
      "text/html": [
       "<div>\n",
       "<style scoped>\n",
       "    .dataframe tbody tr th:only-of-type {\n",
       "        vertical-align: middle;\n",
       "    }\n",
       "\n",
       "    .dataframe tbody tr th {\n",
       "        vertical-align: top;\n",
       "    }\n",
       "\n",
       "    .dataframe thead th {\n",
       "        text-align: right;\n",
       "    }\n",
       "</style>\n",
       "<table border=\"1\" class=\"dataframe\">\n",
       "  <thead>\n",
       "    <tr style=\"text-align: right;\">\n",
       "      <th></th>\n",
       "      <th>Show_id</th>\n",
       "      <th>Type</th>\n",
       "      <th>Title</th>\n",
       "      <th>Director</th>\n",
       "      <th>Country</th>\n",
       "      <th>Date_added</th>\n",
       "      <th>Release_year</th>\n",
       "      <th>Duration</th>\n",
       "      <th>Listed_in</th>\n",
       "    </tr>\n",
       "  </thead>\n",
       "  <tbody>\n",
       "    <tr>\n",
       "      <th>0</th>\n",
       "      <td>1</td>\n",
       "      <td>Movie</td>\n",
       "      <td>Dick Johnson Is Dead</td>\n",
       "      <td>Kirsten Johnson</td>\n",
       "      <td>United States</td>\n",
       "      <td>9/25/2021</td>\n",
       "      <td>2020</td>\n",
       "      <td>90 min</td>\n",
       "      <td>Documentaries</td>\n",
       "    </tr>\n",
       "    <tr>\n",
       "      <th>1</th>\n",
       "      <td>3</td>\n",
       "      <td>TV Show</td>\n",
       "      <td>Ganglands</td>\n",
       "      <td>Julien Leclercq</td>\n",
       "      <td>France</td>\n",
       "      <td>9/24/2021</td>\n",
       "      <td>2021</td>\n",
       "      <td>1 Season</td>\n",
       "      <td>Crime TV Shows, International TV Shows, TV Act...</td>\n",
       "    </tr>\n",
       "    <tr>\n",
       "      <th>2</th>\n",
       "      <td>6</td>\n",
       "      <td>TV Show</td>\n",
       "      <td>Midnight Mass</td>\n",
       "      <td>Mike Flanagan</td>\n",
       "      <td>United States</td>\n",
       "      <td>9/24/2021</td>\n",
       "      <td>2021</td>\n",
       "      <td>1 Season</td>\n",
       "      <td>TV Dramas, TV Horror, TV Mysteries</td>\n",
       "    </tr>\n",
       "    <tr>\n",
       "      <th>3</th>\n",
       "      <td>14</td>\n",
       "      <td>Movie</td>\n",
       "      <td>Confessions of an Invisible Girl</td>\n",
       "      <td>Bruno Garotti</td>\n",
       "      <td>Brazil</td>\n",
       "      <td>9/22/2021</td>\n",
       "      <td>2021</td>\n",
       "      <td>91 min</td>\n",
       "      <td>Children &amp; Family Movies, Comedies</td>\n",
       "    </tr>\n",
       "    <tr>\n",
       "      <th>4</th>\n",
       "      <td>8</td>\n",
       "      <td>Movie</td>\n",
       "      <td>Sankofa</td>\n",
       "      <td>Haile Gerima</td>\n",
       "      <td>United States</td>\n",
       "      <td>9/24/2021</td>\n",
       "      <td>1993</td>\n",
       "      <td>125 min</td>\n",
       "      <td>Dramas, Independent Movies, International Movies</td>\n",
       "    </tr>\n",
       "    <tr>\n",
       "      <th>...</th>\n",
       "      <td>...</td>\n",
       "      <td>...</td>\n",
       "      <td>...</td>\n",
       "      <td>...</td>\n",
       "      <td>...</td>\n",
       "      <td>...</td>\n",
       "      <td>...</td>\n",
       "      <td>...</td>\n",
       "      <td>...</td>\n",
       "    </tr>\n",
       "    <tr>\n",
       "      <th>8785</th>\n",
       "      <td>8797</td>\n",
       "      <td>TV Show</td>\n",
       "      <td>Yunus Emre</td>\n",
       "      <td>Not Given</td>\n",
       "      <td>Turkey</td>\n",
       "      <td>1/17/2017</td>\n",
       "      <td>2016</td>\n",
       "      <td>2 Seasons</td>\n",
       "      <td>International TV Shows, TV Dramas</td>\n",
       "    </tr>\n",
       "    <tr>\n",
       "      <th>8786</th>\n",
       "      <td>8798</td>\n",
       "      <td>TV Show</td>\n",
       "      <td>Zak Storm</td>\n",
       "      <td>Not Given</td>\n",
       "      <td>United States</td>\n",
       "      <td>9/13/2018</td>\n",
       "      <td>2016</td>\n",
       "      <td>3 Seasons</td>\n",
       "      <td>Kids' TV</td>\n",
       "    </tr>\n",
       "    <tr>\n",
       "      <th>8787</th>\n",
       "      <td>8801</td>\n",
       "      <td>TV Show</td>\n",
       "      <td>Zindagi Gulzar Hai</td>\n",
       "      <td>Not Given</td>\n",
       "      <td>Pakistan</td>\n",
       "      <td>12/15/2016</td>\n",
       "      <td>2012</td>\n",
       "      <td>1 Season</td>\n",
       "      <td>International TV Shows, Romantic TV Shows, TV ...</td>\n",
       "    </tr>\n",
       "    <tr>\n",
       "      <th>8788</th>\n",
       "      <td>8784</td>\n",
       "      <td>TV Show</td>\n",
       "      <td>Yoko</td>\n",
       "      <td>Not Given</td>\n",
       "      <td>Pakistan</td>\n",
       "      <td>6/23/2018</td>\n",
       "      <td>2016</td>\n",
       "      <td>1 Season</td>\n",
       "      <td>Kids' TV</td>\n",
       "    </tr>\n",
       "    <tr>\n",
       "      <th>8789</th>\n",
       "      <td>8786</td>\n",
       "      <td>TV Show</td>\n",
       "      <td>YOM</td>\n",
       "      <td>Not Given</td>\n",
       "      <td>Pakistan</td>\n",
       "      <td>6/7/2018</td>\n",
       "      <td>2016</td>\n",
       "      <td>1 Season</td>\n",
       "      <td>Kids' TV</td>\n",
       "    </tr>\n",
       "  </tbody>\n",
       "</table>\n",
       "<p>8790 rows × 9 columns</p>\n",
       "</div>"
      ],
      "text/plain": [
       "     Show_id     Type                             Title         Director  \\\n",
       "0          1    Movie              Dick Johnson Is Dead  Kirsten Johnson   \n",
       "1          3  TV Show                         Ganglands  Julien Leclercq   \n",
       "2          6  TV Show                     Midnight Mass    Mike Flanagan   \n",
       "3         14    Movie  Confessions of an Invisible Girl    Bruno Garotti   \n",
       "4          8    Movie                           Sankofa     Haile Gerima   \n",
       "...      ...      ...                               ...              ...   \n",
       "8785    8797  TV Show                        Yunus Emre        Not Given   \n",
       "8786    8798  TV Show                         Zak Storm        Not Given   \n",
       "8787    8801  TV Show                Zindagi Gulzar Hai        Not Given   \n",
       "8788    8784  TV Show                              Yoko        Not Given   \n",
       "8789    8786  TV Show                               YOM        Not Given   \n",
       "\n",
       "            Country  Date_added  Release_year   Duration  \\\n",
       "0     United States   9/25/2021          2020     90 min   \n",
       "1            France   9/24/2021          2021   1 Season   \n",
       "2     United States   9/24/2021          2021   1 Season   \n",
       "3            Brazil   9/22/2021          2021     91 min   \n",
       "4     United States   9/24/2021          1993    125 min   \n",
       "...             ...         ...           ...        ...   \n",
       "8785         Turkey   1/17/2017          2016  2 Seasons   \n",
       "8786  United States   9/13/2018          2016  3 Seasons   \n",
       "8787       Pakistan  12/15/2016          2012   1 Season   \n",
       "8788       Pakistan   6/23/2018          2016   1 Season   \n",
       "8789       Pakistan    6/7/2018          2016   1 Season   \n",
       "\n",
       "                                              Listed_in  \n",
       "0                                         Documentaries  \n",
       "1     Crime TV Shows, International TV Shows, TV Act...  \n",
       "2                    TV Dramas, TV Horror, TV Mysteries  \n",
       "3                    Children & Family Movies, Comedies  \n",
       "4      Dramas, Independent Movies, International Movies  \n",
       "...                                                 ...  \n",
       "8785                  International TV Shows, TV Dramas  \n",
       "8786                                           Kids' TV  \n",
       "8787  International TV Shows, Romantic TV Shows, TV ...  \n",
       "8788                                           Kids' TV  \n",
       "8789                                           Kids' TV  \n",
       "\n",
       "[8790 rows x 9 columns]"
      ]
     },
     "execution_count": 43,
     "metadata": {},
     "output_type": "execute_result"
    }
   ],
   "source": [
    "df"
   ]
  },
  {
   "cell_type": "code",
   "execution_count": 44,
   "id": "44f88ce9",
   "metadata": {},
   "outputs": [
    {
     "data": {
      "text/plain": [
       "\"another method to rmove s from the Show_id column\\ndf['Show_id'].apply(lambda x: x.split('s')[1])\\n\""
      ]
     },
     "execution_count": 44,
     "metadata": {},
     "output_type": "execute_result"
    }
   ],
   "source": [
    "'''another method to rmove s from the Show_id column\n",
    "df['Show_id'].apply(lambda x: x.split('s')[1])\n",
    "'''"
   ]
  },
  {
   "cell_type": "code",
   "execution_count": 45,
   "id": "69efc357",
   "metadata": {},
   "outputs": [
    {
     "data": {
      "text/plain": [
       "'3'"
      ]
     },
     "execution_count": 45,
     "metadata": {},
     "output_type": "execute_result"
    }
   ],
   "source": [
    "df['Show_id'][1]"
   ]
  },
  {
   "cell_type": "code",
   "execution_count": 46,
   "id": "e47bab27",
   "metadata": {},
   "outputs": [
    {
     "data": {
      "text/plain": [
       "str"
      ]
     },
     "execution_count": 46,
     "metadata": {},
     "output_type": "execute_result"
    }
   ],
   "source": [
    "type(df['Show_id'][1])"
   ]
  },
  {
   "cell_type": "code",
   "execution_count": 47,
   "id": "d7b530b7",
   "metadata": {},
   "outputs": [],
   "source": [
    "df['Show_id']=df['Show_id'].astype(int)"
   ]
  },
  {
   "cell_type": "code",
   "execution_count": 48,
   "id": "698fcb64",
   "metadata": {},
   "outputs": [
    {
     "data": {
      "application/vnd.microsoft.datawrangler.viewer.v0+json": {
       "columns": [
        {
         "name": "index",
         "rawType": "int64",
         "type": "integer"
        },
        {
         "name": "Show_id",
         "rawType": "int64",
         "type": "integer"
        }
       ],
       "ref": "6dc97a58-4bb5-4ca0-867e-cb897f557280",
       "rows": [
        [
         "0",
         "1"
        ],
        [
         "1",
         "3"
        ],
        [
         "2",
         "6"
        ],
        [
         "3",
         "14"
        ],
        [
         "4",
         "8"
        ],
        [
         "5",
         "9"
        ],
        [
         "6",
         "10"
        ],
        [
         "7",
         "939"
        ],
        [
         "8",
         "13"
        ],
        [
         "9",
         "940"
        ],
        [
         "10",
         "941"
        ],
        [
         "11",
         "942"
        ],
        [
         "12",
         "852"
        ],
        [
         "13",
         "471"
        ],
        [
         "14",
         "730"
        ],
        [
         "15",
         "731"
        ],
        [
         "16",
         "913"
        ],
        [
         "17",
         "4"
        ],
        [
         "18",
         "15"
        ],
        [
         "19",
         "3232"
        ],
        [
         "20",
         "4832"
        ],
        [
         "21",
         "4833"
        ],
        [
         "22",
         "4857"
        ],
        [
         "23",
         "7"
        ],
        [
         "24",
         "12"
        ],
        [
         "25",
         "17"
        ],
        [
         "26",
         "7930"
        ],
        [
         "27",
         "21"
        ],
        [
         "28",
         "24"
        ],
        [
         "29",
         "25"
        ],
        [
         "30",
         "28"
        ],
        [
         "31",
         "29"
        ],
        [
         "32",
         "30"
        ],
        [
         "33",
         "20"
        ],
        [
         "34",
         "32"
        ],
        [
         "35",
         "34"
        ],
        [
         "36",
         "35"
        ],
        [
         "37",
         "75"
        ],
        [
         "38",
         "84"
        ],
        [
         "39",
         "86"
        ],
        [
         "40",
         "88"
        ],
        [
         "41",
         "90"
        ],
        [
         "42",
         "101"
        ],
        [
         "43",
         "122"
        ],
        [
         "44",
         "133"
        ],
        [
         "45",
         "148"
        ],
        [
         "46",
         "166"
        ],
        [
         "47",
         "190"
        ],
        [
         "48",
         "182"
        ],
        [
         "49",
         "187"
        ]
       ],
       "shape": {
        "columns": 1,
        "rows": 8790
       }
      },
      "text/plain": [
       "0          1\n",
       "1          3\n",
       "2          6\n",
       "3         14\n",
       "4          8\n",
       "        ... \n",
       "8785    8797\n",
       "8786    8798\n",
       "8787    8801\n",
       "8788    8784\n",
       "8789    8786\n",
       "Name: Show_id, Length: 8790, dtype: int64"
      ]
     },
     "execution_count": 48,
     "metadata": {},
     "output_type": "execute_result"
    }
   ],
   "source": [
    "df['Show_id']"
   ]
  },
  {
   "cell_type": "code",
   "execution_count": 49,
   "id": "da367e7a",
   "metadata": {},
   "outputs": [
    {
     "data": {
      "text/plain": [
       "numpy.int64"
      ]
     },
     "execution_count": 49,
     "metadata": {},
     "output_type": "execute_result"
    }
   ],
   "source": [
    "type(df['Show_id'][1])"
   ]
  },
  {
   "cell_type": "code",
   "execution_count": 50,
   "id": "ef5ddf1f",
   "metadata": {},
   "outputs": [],
   "source": [
    "df['Date_added']=df['Date_added'].apply(lambda x: x.replace('/','-'))"
   ]
  },
  {
   "cell_type": "code",
   "execution_count": 51,
   "id": "4eb02f34",
   "metadata": {},
   "outputs": [
    {
     "data": {
      "application/vnd.microsoft.datawrangler.viewer.v0+json": {
       "columns": [
        {
         "name": "index",
         "rawType": "int64",
         "type": "integer"
        },
        {
         "name": "Show_id",
         "rawType": "int64",
         "type": "integer"
        },
        {
         "name": "Type",
         "rawType": "object",
         "type": "string"
        },
        {
         "name": "Title",
         "rawType": "object",
         "type": "string"
        },
        {
         "name": "Director",
         "rawType": "object",
         "type": "string"
        },
        {
         "name": "Country",
         "rawType": "object",
         "type": "string"
        },
        {
         "name": "Date_added",
         "rawType": "object",
         "type": "string"
        },
        {
         "name": "Release_year",
         "rawType": "int64",
         "type": "integer"
        },
        {
         "name": "Duration",
         "rawType": "object",
         "type": "string"
        },
        {
         "name": "Listed_in",
         "rawType": "object",
         "type": "string"
        }
       ],
       "ref": "15dd1b8a-ccae-4c05-9ae8-91bedbcdea90",
       "rows": [
        [
         "0",
         "1",
         "Movie",
         "Dick Johnson Is Dead",
         "Kirsten Johnson",
         "United States",
         "9-25-2021",
         "2020",
         "90 min",
         "Documentaries"
        ],
        [
         "1",
         "3",
         "TV Show",
         "Ganglands",
         "Julien Leclercq",
         "France",
         "9-24-2021",
         "2021",
         "1 Season",
         "Crime TV Shows, International TV Shows, TV Action & Adventure"
        ],
        [
         "2",
         "6",
         "TV Show",
         "Midnight Mass",
         "Mike Flanagan",
         "United States",
         "9-24-2021",
         "2021",
         "1 Season",
         "TV Dramas, TV Horror, TV Mysteries"
        ],
        [
         "3",
         "14",
         "Movie",
         "Confessions of an Invisible Girl",
         "Bruno Garotti",
         "Brazil",
         "9-22-2021",
         "2021",
         "91 min",
         "Children & Family Movies, Comedies"
        ],
        [
         "4",
         "8",
         "Movie",
         "Sankofa",
         "Haile Gerima",
         "United States",
         "9-24-2021",
         "1993",
         "125 min",
         "Dramas, Independent Movies, International Movies"
        ],
        [
         "5",
         "9",
         "TV Show",
         "The Great British Baking Show",
         "Andy Devonshire",
         "United Kingdom",
         "9-24-2021",
         "2021",
         "9 Seasons",
         "British TV Shows, Reality TV"
        ],
        [
         "6",
         "10",
         "Movie",
         "The Starling",
         "Theodore Melfi",
         "United States",
         "9-24-2021",
         "2021",
         "104 min",
         "Comedies, Dramas"
        ],
        [
         "7",
         "939",
         "Movie",
         "Motu Patlu in the Game of Zones",
         "Suhas Kadav",
         "India",
         "5-1-2021",
         "2019",
         "87 min",
         "Children & Family Movies, Comedies, Music & Musicals"
        ],
        [
         "8",
         "13",
         "Movie",
         "Je Suis Karl",
         "Christian Schwochow",
         "Germany",
         "9-23-2021",
         "2021",
         "127 min",
         "Dramas, International Movies"
        ],
        [
         "9",
         "940",
         "Movie",
         "Motu Patlu in Wonderland",
         "Suhas Kadav",
         "India",
         "5-1-2021",
         "2013",
         "76 min",
         "Children & Family Movies, Music & Musicals"
        ],
        [
         "10",
         "941",
         "Movie",
         "Motu Patlu: Deep Sea Adventure",
         "Suhas Kadav",
         "India",
         "5-1-2021",
         "2014",
         "76 min",
         "Children & Family Movies, Comedies"
        ],
        [
         "11",
         "942",
         "Movie",
         "Motu Patlu: Mission Moon",
         "Suhas Kadav",
         "India",
         "5-1-2021",
         "2013",
         "71 min",
         "Children & Family Movies, Comedies"
        ],
        [
         "12",
         "852",
         "Movie",
         "99 Songs (Tamil)",
         "Not Given",
         "Pakistan",
         "5-21-2021",
         "2021",
         "131 min",
         "Dramas, International Movies, Music & Musicals"
        ],
        [
         "13",
         "471",
         "Movie",
         "Bridgerton - The Afterparty",
         "Krysia Plonka, Kristian Mercado",
         "United States",
         "7-13-2021",
         "2021",
         "39 min",
         "Movies"
        ],
        [
         "14",
         "730",
         "Movie",
         "Bling Empire - The Afterparty",
         "Krysia Plonka, Kristian Mercado",
         "United States",
         "6-12-2021",
         "2021",
         "36 min",
         "Movies"
        ],
        [
         "15",
         "731",
         "Movie",
         "Cobra Kai - The Afterparty",
         "Krysia Plonka, Kristian Mercado",
         "United States",
         "6-12-2021",
         "2021",
         "34 min",
         "Movies"
        ],
        [
         "16",
         "913",
         "Movie",
         "The Circle - The Afterparty",
         "Krysia Plonka, Kristian Mercado",
         "United States",
         "5-7-2021",
         "2021",
         "35 min",
         "Comedies"
        ],
        [
         "17",
         "4",
         "TV Show",
         "Jailbirds New Orleans",
         "Not Given",
         "Pakistan",
         "9-24-2021",
         "2021",
         "1 Season",
         "Docuseries, Reality TV"
        ],
        [
         "18",
         "15",
         "TV Show",
         "Crime Stories: India Detectives",
         "Not Given",
         "Pakistan",
         "9-22-2021",
         "2021",
         "1 Season",
         "British TV Shows, Crime TV Shows, Docuseries"
        ],
        [
         "19",
         "3232",
         "Movie",
         "True: Winter Wishes",
         "Mark Thornton, Todd Kauffman",
         "United States",
         "11-26-2019",
         "2019",
         "46 min",
         "Children & Family Movies"
        ],
        [
         "20",
         "4832",
         "TV Show",
         "True: Magical Friends",
         "Mark Thornton, Todd Kauffman",
         "United States",
         "6-15-2018",
         "2018",
         "1 Season",
         "Kids' TV"
        ],
        [
         "21",
         "4833",
         "TV Show",
         "True: Wonderful Wishes",
         "Mark Thornton, Todd Kauffman",
         "United States",
         "6-15-2018",
         "2018",
         "1 Season",
         "Kids' TV"
        ],
        [
         "22",
         "4857",
         "TV Show",
         "Dance & Sing with True",
         "Mark Thornton, Todd Kauffman",
         "United States",
         "5-18-2018",
         "2018",
         "1 Season",
         "Kids' TV"
        ],
        [
         "23",
         "7",
         "Movie",
         "My Little Pony: A New Generation",
         "Robert Cullen, JosÃ© Luis Ucha",
         "Not Given",
         "9-24-2021",
         "2021",
         "91 min",
         "Children & Family Movies"
        ],
        [
         "24",
         "12",
         "TV Show",
         "Bangkok Breaking",
         "Kongkiat Komesiri",
         "Not Given",
         "9-23-2021",
         "2021",
         "1 Season",
         "Crime TV Shows, International TV Shows, TV Action & Adventure"
        ],
        [
         "25",
         "17",
         "Movie",
         "Europe's Most Dangerous Man: Otto Skorzeny in Spain",
         "Pedro de Echave GarcÃ­a, Pablo AzorÃ­n Williams",
         "Not Given",
         "9-22-2021",
         "2020",
         "67 min",
         "Documentaries, International Movies"
        ],
        [
         "26",
         "7930",
         "Movie",
         "Samudri Lootere",
         "Anirban Majumder",
         "Not Given",
         "6-18-2019",
         "2018",
         "65 min",
         "Children & Family Movies"
        ],
        [
         "27",
         "21",
         "TV Show",
         "Monsters Inside: The 24 Faces of Billy Milligan",
         "Olivier Megaton",
         "United States",
         "9-22-2021",
         "2021",
         "1 Season",
         "Crime TV Shows, Docuseries, International TV Shows"
        ],
        [
         "28",
         "24",
         "Movie",
         "Go! Go! Cory Carson: Chrissy Takes the Wheel",
         "Alex Woo, Stanley Moore",
         "United States",
         "9-21-2021",
         "2021",
         "61 min",
         "Children & Family Movies"
        ],
        [
         "29",
         "25",
         "Movie",
         "Jeans",
         "S. Shankar",
         "India",
         "9-21-2021",
         "1998",
         "166 min",
         "Comedies, International Movies, Romantic Movies"
        ],
        [
         "30",
         "28",
         "Movie",
         "Grown Ups",
         "Dennis Dugan",
         "United States",
         "9-20-2021",
         "2010",
         "103 min",
         "Comedies"
        ],
        [
         "31",
         "29",
         "Movie",
         "Dark Skies",
         "Scott Stewart",
         "United States",
         "9-19-2021",
         "2013",
         "97 min",
         "Horror Movies, Sci-Fi & Fantasy"
        ],
        [
         "32",
         "30",
         "Movie",
         "Paranoia",
         "Robert Luketic",
         "United States",
         "9-19-2021",
         "2013",
         "106 min",
         "Thrillers"
        ],
        [
         "33",
         "20",
         "TV Show",
         "Jaguar",
         "Not Given",
         "Pakistan",
         "9-22-2021",
         "2021",
         "1 Season",
         "International TV Shows, Spanish-Language TV Shows, TV Action & Adventure"
        ],
        [
         "34",
         "32",
         "TV Show",
         "Chicago Party Aunt",
         "Not Given",
         "Pakistan",
         "9-17-2021",
         "2021",
         "1 Season",
         "TV Comedies"
        ],
        [
         "35",
         "34",
         "TV Show",
         "Squid Game",
         "Not Given",
         "Pakistan",
         "9-17-2021",
         "2021",
         "1 Season",
         "International TV Shows, TV Dramas, TV Thrillers"
        ],
        [
         "36",
         "35",
         "TV Show",
         "Tayo and Little Wizards",
         "Not Given",
         "Pakistan",
         "9-17-2021",
         "2020",
         "1 Season",
         "Kids' TV"
        ],
        [
         "37",
         "75",
         "TV Show",
         "The World's Most Amazing Vacation Rentals",
         "Not Given",
         "Pakistan",
         "9-14-2021",
         "2021",
         "2 Seasons",
         "Reality TV"
        ],
        [
         "38",
         "84",
         "TV Show",
         "Metal Shop Masters",
         "Not Given",
         "Pakistan",
         "9-10-2021",
         "2021",
         "1 Season",
         "Reality TV"
        ],
        [
         "39",
         "86",
         "TV Show",
         "PokÃ©mon Master Journeys: The Series",
         "Not Given",
         "Pakistan",
         "9-10-2021",
         "2021",
         "1 Season",
         "Anime Series, Kids' TV"
        ],
        [
         "40",
         "88",
         "TV Show",
         "Titipo Titipo",
         "Not Given",
         "Pakistan",
         "9-10-2021",
         "2019",
         "2 Seasons",
         "Kids' TV, Korean TV Shows"
        ],
        [
         "41",
         "90",
         "TV Show",
         "Mighty Raju",
         "Not Given",
         "Pakistan",
         "9-9-2021",
         "2017",
         "4 Seasons",
         "Kids' TV"
        ],
        [
         "42",
         "101",
         "TV Show",
         "Tobot Galaxy Detectives",
         "Not Given",
         "Pakistan",
         "9-7-2021",
         "2019",
         "2 Seasons",
         "Kids' TV"
        ],
        [
         "43",
         "122",
         "TV Show",
         "Hotel Del Luna",
         "Not Given",
         "Pakistan",
         "9-2-2021",
         "2019",
         "1 Season",
         "International TV Shows, Romantic TV Shows, TV Comedies"
        ],
        [
         "44",
         "133",
         "TV Show",
         "Brave Animated Series",
         "Not Given",
         "Pakistan",
         "9-1-2021",
         "2021",
         "1 Season",
         "International TV Shows, TV Action & Adventure, TV Comedies"
        ],
        [
         "45",
         "148",
         "TV Show",
         "How to Be a Cowboy",
         "Not Given",
         "Pakistan",
         "9-1-2021",
         "2021",
         "1 Season",
         "Reality TV"
        ],
        [
         "46",
         "166",
         "TV Show",
         "Oldsters",
         "Not Given",
         "Pakistan",
         "9-1-2021",
         "2019",
         "1 Season",
         "Crime TV Shows, International TV Shows, Spanish-Language TV Shows"
        ],
        [
         "47",
         "190",
         "TV Show",
         "Bread Barbershop",
         "Not Given",
         "Pakistan",
         "8-28-2021",
         "2020",
         "2 Seasons",
         "Kids' TV, TV Comedies"
        ],
        [
         "48",
         "182",
         "TV Show",
         "Turning Point: 9/11 and the War on Terror",
         "Not Given",
         "Pakistan",
         "9-1-2021",
         "2021",
         "1 Season",
         "Docuseries"
        ],
        [
         "49",
         "187",
         "TV Show",
         "Hometown Cha-Cha-Cha",
         "Not Given",
         "Pakistan",
         "8-29-2021",
         "2021",
         "1 Season",
         "International TV Shows, Romantic TV Shows, TV Comedies"
        ]
       ],
       "shape": {
        "columns": 9,
        "rows": 8790
       }
      },
      "text/html": [
       "<div>\n",
       "<style scoped>\n",
       "    .dataframe tbody tr th:only-of-type {\n",
       "        vertical-align: middle;\n",
       "    }\n",
       "\n",
       "    .dataframe tbody tr th {\n",
       "        vertical-align: top;\n",
       "    }\n",
       "\n",
       "    .dataframe thead th {\n",
       "        text-align: right;\n",
       "    }\n",
       "</style>\n",
       "<table border=\"1\" class=\"dataframe\">\n",
       "  <thead>\n",
       "    <tr style=\"text-align: right;\">\n",
       "      <th></th>\n",
       "      <th>Show_id</th>\n",
       "      <th>Type</th>\n",
       "      <th>Title</th>\n",
       "      <th>Director</th>\n",
       "      <th>Country</th>\n",
       "      <th>Date_added</th>\n",
       "      <th>Release_year</th>\n",
       "      <th>Duration</th>\n",
       "      <th>Listed_in</th>\n",
       "    </tr>\n",
       "  </thead>\n",
       "  <tbody>\n",
       "    <tr>\n",
       "      <th>0</th>\n",
       "      <td>1</td>\n",
       "      <td>Movie</td>\n",
       "      <td>Dick Johnson Is Dead</td>\n",
       "      <td>Kirsten Johnson</td>\n",
       "      <td>United States</td>\n",
       "      <td>9-25-2021</td>\n",
       "      <td>2020</td>\n",
       "      <td>90 min</td>\n",
       "      <td>Documentaries</td>\n",
       "    </tr>\n",
       "    <tr>\n",
       "      <th>1</th>\n",
       "      <td>3</td>\n",
       "      <td>TV Show</td>\n",
       "      <td>Ganglands</td>\n",
       "      <td>Julien Leclercq</td>\n",
       "      <td>France</td>\n",
       "      <td>9-24-2021</td>\n",
       "      <td>2021</td>\n",
       "      <td>1 Season</td>\n",
       "      <td>Crime TV Shows, International TV Shows, TV Act...</td>\n",
       "    </tr>\n",
       "    <tr>\n",
       "      <th>2</th>\n",
       "      <td>6</td>\n",
       "      <td>TV Show</td>\n",
       "      <td>Midnight Mass</td>\n",
       "      <td>Mike Flanagan</td>\n",
       "      <td>United States</td>\n",
       "      <td>9-24-2021</td>\n",
       "      <td>2021</td>\n",
       "      <td>1 Season</td>\n",
       "      <td>TV Dramas, TV Horror, TV Mysteries</td>\n",
       "    </tr>\n",
       "    <tr>\n",
       "      <th>3</th>\n",
       "      <td>14</td>\n",
       "      <td>Movie</td>\n",
       "      <td>Confessions of an Invisible Girl</td>\n",
       "      <td>Bruno Garotti</td>\n",
       "      <td>Brazil</td>\n",
       "      <td>9-22-2021</td>\n",
       "      <td>2021</td>\n",
       "      <td>91 min</td>\n",
       "      <td>Children &amp; Family Movies, Comedies</td>\n",
       "    </tr>\n",
       "    <tr>\n",
       "      <th>4</th>\n",
       "      <td>8</td>\n",
       "      <td>Movie</td>\n",
       "      <td>Sankofa</td>\n",
       "      <td>Haile Gerima</td>\n",
       "      <td>United States</td>\n",
       "      <td>9-24-2021</td>\n",
       "      <td>1993</td>\n",
       "      <td>125 min</td>\n",
       "      <td>Dramas, Independent Movies, International Movies</td>\n",
       "    </tr>\n",
       "    <tr>\n",
       "      <th>...</th>\n",
       "      <td>...</td>\n",
       "      <td>...</td>\n",
       "      <td>...</td>\n",
       "      <td>...</td>\n",
       "      <td>...</td>\n",
       "      <td>...</td>\n",
       "      <td>...</td>\n",
       "      <td>...</td>\n",
       "      <td>...</td>\n",
       "    </tr>\n",
       "    <tr>\n",
       "      <th>8785</th>\n",
       "      <td>8797</td>\n",
       "      <td>TV Show</td>\n",
       "      <td>Yunus Emre</td>\n",
       "      <td>Not Given</td>\n",
       "      <td>Turkey</td>\n",
       "      <td>1-17-2017</td>\n",
       "      <td>2016</td>\n",
       "      <td>2 Seasons</td>\n",
       "      <td>International TV Shows, TV Dramas</td>\n",
       "    </tr>\n",
       "    <tr>\n",
       "      <th>8786</th>\n",
       "      <td>8798</td>\n",
       "      <td>TV Show</td>\n",
       "      <td>Zak Storm</td>\n",
       "      <td>Not Given</td>\n",
       "      <td>United States</td>\n",
       "      <td>9-13-2018</td>\n",
       "      <td>2016</td>\n",
       "      <td>3 Seasons</td>\n",
       "      <td>Kids' TV</td>\n",
       "    </tr>\n",
       "    <tr>\n",
       "      <th>8787</th>\n",
       "      <td>8801</td>\n",
       "      <td>TV Show</td>\n",
       "      <td>Zindagi Gulzar Hai</td>\n",
       "      <td>Not Given</td>\n",
       "      <td>Pakistan</td>\n",
       "      <td>12-15-2016</td>\n",
       "      <td>2012</td>\n",
       "      <td>1 Season</td>\n",
       "      <td>International TV Shows, Romantic TV Shows, TV ...</td>\n",
       "    </tr>\n",
       "    <tr>\n",
       "      <th>8788</th>\n",
       "      <td>8784</td>\n",
       "      <td>TV Show</td>\n",
       "      <td>Yoko</td>\n",
       "      <td>Not Given</td>\n",
       "      <td>Pakistan</td>\n",
       "      <td>6-23-2018</td>\n",
       "      <td>2016</td>\n",
       "      <td>1 Season</td>\n",
       "      <td>Kids' TV</td>\n",
       "    </tr>\n",
       "    <tr>\n",
       "      <th>8789</th>\n",
       "      <td>8786</td>\n",
       "      <td>TV Show</td>\n",
       "      <td>YOM</td>\n",
       "      <td>Not Given</td>\n",
       "      <td>Pakistan</td>\n",
       "      <td>6-7-2018</td>\n",
       "      <td>2016</td>\n",
       "      <td>1 Season</td>\n",
       "      <td>Kids' TV</td>\n",
       "    </tr>\n",
       "  </tbody>\n",
       "</table>\n",
       "<p>8790 rows × 9 columns</p>\n",
       "</div>"
      ],
      "text/plain": [
       "      Show_id     Type                             Title         Director  \\\n",
       "0           1    Movie              Dick Johnson Is Dead  Kirsten Johnson   \n",
       "1           3  TV Show                         Ganglands  Julien Leclercq   \n",
       "2           6  TV Show                     Midnight Mass    Mike Flanagan   \n",
       "3          14    Movie  Confessions of an Invisible Girl    Bruno Garotti   \n",
       "4           8    Movie                           Sankofa     Haile Gerima   \n",
       "...       ...      ...                               ...              ...   \n",
       "8785     8797  TV Show                        Yunus Emre        Not Given   \n",
       "8786     8798  TV Show                         Zak Storm        Not Given   \n",
       "8787     8801  TV Show                Zindagi Gulzar Hai        Not Given   \n",
       "8788     8784  TV Show                              Yoko        Not Given   \n",
       "8789     8786  TV Show                               YOM        Not Given   \n",
       "\n",
       "            Country  Date_added  Release_year   Duration  \\\n",
       "0     United States   9-25-2021          2020     90 min   \n",
       "1            France   9-24-2021          2021   1 Season   \n",
       "2     United States   9-24-2021          2021   1 Season   \n",
       "3            Brazil   9-22-2021          2021     91 min   \n",
       "4     United States   9-24-2021          1993    125 min   \n",
       "...             ...         ...           ...        ...   \n",
       "8785         Turkey   1-17-2017          2016  2 Seasons   \n",
       "8786  United States   9-13-2018          2016  3 Seasons   \n",
       "8787       Pakistan  12-15-2016          2012   1 Season   \n",
       "8788       Pakistan   6-23-2018          2016   1 Season   \n",
       "8789       Pakistan    6-7-2018          2016   1 Season   \n",
       "\n",
       "                                              Listed_in  \n",
       "0                                         Documentaries  \n",
       "1     Crime TV Shows, International TV Shows, TV Act...  \n",
       "2                    TV Dramas, TV Horror, TV Mysteries  \n",
       "3                    Children & Family Movies, Comedies  \n",
       "4      Dramas, Independent Movies, International Movies  \n",
       "...                                                 ...  \n",
       "8785                  International TV Shows, TV Dramas  \n",
       "8786                                           Kids' TV  \n",
       "8787  International TV Shows, Romantic TV Shows, TV ...  \n",
       "8788                                           Kids' TV  \n",
       "8789                                           Kids' TV  \n",
       "\n",
       "[8790 rows x 9 columns]"
      ]
     },
     "execution_count": 51,
     "metadata": {},
     "output_type": "execute_result"
    }
   ],
   "source": [
    "df"
   ]
  },
  {
   "cell_type": "code",
   "execution_count": 52,
   "id": "30897eee",
   "metadata": {},
   "outputs": [
    {
     "data": {
      "application/vnd.microsoft.datawrangler.viewer.v0+json": {
       "columns": [
        {
         "name": "index",
         "rawType": "int64",
         "type": "integer"
        },
        {
         "name": "Country",
         "rawType": "object",
         "type": "string"
        },
        {
         "name": "count",
         "rawType": "int64",
         "type": "integer"
        }
       ],
       "ref": "10cee6fa-cdaf-49e0-9bc0-e3ab61b70eba",
       "rows": [
        [
         "13",
         "Turkey",
         "112"
        ]
       ],
       "shape": {
        "columns": 2,
        "rows": 1
       }
      },
      "text/html": [
       "<div>\n",
       "<style scoped>\n",
       "    .dataframe tbody tr th:only-of-type {\n",
       "        vertical-align: middle;\n",
       "    }\n",
       "\n",
       "    .dataframe tbody tr th {\n",
       "        vertical-align: top;\n",
       "    }\n",
       "\n",
       "    .dataframe thead th {\n",
       "        text-align: right;\n",
       "    }\n",
       "</style>\n",
       "<table border=\"1\" class=\"dataframe\">\n",
       "  <thead>\n",
       "    <tr style=\"text-align: right;\">\n",
       "      <th></th>\n",
       "      <th>Country</th>\n",
       "      <th>count</th>\n",
       "    </tr>\n",
       "  </thead>\n",
       "  <tbody>\n",
       "    <tr>\n",
       "      <th>13</th>\n",
       "      <td>Turkey</td>\n",
       "      <td>112</td>\n",
       "    </tr>\n",
       "  </tbody>\n",
       "</table>\n",
       "</div>"
      ],
      "text/plain": [
       "   Country  count\n",
       "13  Turkey    112"
      ]
     },
     "execution_count": 52,
     "metadata": {},
     "output_type": "execute_result"
    }
   ],
   "source": [
    "df1=df['Country'].value_counts().reset_index()\n",
    "df1[df1['Country']== 'Turkey']\n",
    "#not a part of data cleaning but viewing the data"
   ]
  },
  {
   "cell_type": "code",
   "execution_count": 53,
   "id": "5b36d314",
   "metadata": {},
   "outputs": [],
   "source": [
    "#we can now save the cleaned DataFrame to a new CSV file\n",
    "df.to_csv(r'netflix_cleaned.csv', index=False)"
   ]
  },
  {
   "cell_type": "code",
   "execution_count": 54,
   "id": "ac363bdd",
   "metadata": {},
   "outputs": [],
   "source": [
    "df2=pd.read_csv(r'netflix_cleaned.csv')"
   ]
  },
  {
   "cell_type": "code",
   "execution_count": 55,
   "id": "18d40aad",
   "metadata": {},
   "outputs": [
    {
     "data": {
      "application/vnd.microsoft.datawrangler.viewer.v0+json": {
       "columns": [
        {
         "name": "index",
         "rawType": "int64",
         "type": "integer"
        },
        {
         "name": "Show_id",
         "rawType": "int64",
         "type": "integer"
        },
        {
         "name": "Type",
         "rawType": "object",
         "type": "string"
        },
        {
         "name": "Title",
         "rawType": "object",
         "type": "string"
        },
        {
         "name": "Director",
         "rawType": "object",
         "type": "string"
        },
        {
         "name": "Country",
         "rawType": "object",
         "type": "string"
        },
        {
         "name": "Date_added",
         "rawType": "object",
         "type": "string"
        },
        {
         "name": "Release_year",
         "rawType": "int64",
         "type": "integer"
        },
        {
         "name": "Duration",
         "rawType": "object",
         "type": "string"
        },
        {
         "name": "Listed_in",
         "rawType": "object",
         "type": "string"
        }
       ],
       "ref": "00227d58-4cf8-4f8d-aa06-45c601fd9cef",
       "rows": [
        [
         "0",
         "1",
         "Movie",
         "Dick Johnson Is Dead",
         "Kirsten Johnson",
         "United States",
         "9-25-2021",
         "2020",
         "90 min",
         "Documentaries"
        ],
        [
         "1",
         "3",
         "TV Show",
         "Ganglands",
         "Julien Leclercq",
         "France",
         "9-24-2021",
         "2021",
         "1 Season",
         "Crime TV Shows, International TV Shows, TV Action & Adventure"
        ],
        [
         "2",
         "6",
         "TV Show",
         "Midnight Mass",
         "Mike Flanagan",
         "United States",
         "9-24-2021",
         "2021",
         "1 Season",
         "TV Dramas, TV Horror, TV Mysteries"
        ],
        [
         "3",
         "14",
         "Movie",
         "Confessions of an Invisible Girl",
         "Bruno Garotti",
         "Brazil",
         "9-22-2021",
         "2021",
         "91 min",
         "Children & Family Movies, Comedies"
        ],
        [
         "4",
         "8",
         "Movie",
         "Sankofa",
         "Haile Gerima",
         "United States",
         "9-24-2021",
         "1993",
         "125 min",
         "Dramas, Independent Movies, International Movies"
        ],
        [
         "5",
         "9",
         "TV Show",
         "The Great British Baking Show",
         "Andy Devonshire",
         "United Kingdom",
         "9-24-2021",
         "2021",
         "9 Seasons",
         "British TV Shows, Reality TV"
        ],
        [
         "6",
         "10",
         "Movie",
         "The Starling",
         "Theodore Melfi",
         "United States",
         "9-24-2021",
         "2021",
         "104 min",
         "Comedies, Dramas"
        ],
        [
         "7",
         "939",
         "Movie",
         "Motu Patlu in the Game of Zones",
         "Suhas Kadav",
         "India",
         "5-1-2021",
         "2019",
         "87 min",
         "Children & Family Movies, Comedies, Music & Musicals"
        ],
        [
         "8",
         "13",
         "Movie",
         "Je Suis Karl",
         "Christian Schwochow",
         "Germany",
         "9-23-2021",
         "2021",
         "127 min",
         "Dramas, International Movies"
        ],
        [
         "9",
         "940",
         "Movie",
         "Motu Patlu in Wonderland",
         "Suhas Kadav",
         "India",
         "5-1-2021",
         "2013",
         "76 min",
         "Children & Family Movies, Music & Musicals"
        ],
        [
         "10",
         "941",
         "Movie",
         "Motu Patlu: Deep Sea Adventure",
         "Suhas Kadav",
         "India",
         "5-1-2021",
         "2014",
         "76 min",
         "Children & Family Movies, Comedies"
        ],
        [
         "11",
         "942",
         "Movie",
         "Motu Patlu: Mission Moon",
         "Suhas Kadav",
         "India",
         "5-1-2021",
         "2013",
         "71 min",
         "Children & Family Movies, Comedies"
        ],
        [
         "12",
         "852",
         "Movie",
         "99 Songs (Tamil)",
         "Not Given",
         "Pakistan",
         "5-21-2021",
         "2021",
         "131 min",
         "Dramas, International Movies, Music & Musicals"
        ],
        [
         "13",
         "471",
         "Movie",
         "Bridgerton - The Afterparty",
         "Krysia Plonka, Kristian Mercado",
         "United States",
         "7-13-2021",
         "2021",
         "39 min",
         "Movies"
        ],
        [
         "14",
         "730",
         "Movie",
         "Bling Empire - The Afterparty",
         "Krysia Plonka, Kristian Mercado",
         "United States",
         "6-12-2021",
         "2021",
         "36 min",
         "Movies"
        ],
        [
         "15",
         "731",
         "Movie",
         "Cobra Kai - The Afterparty",
         "Krysia Plonka, Kristian Mercado",
         "United States",
         "6-12-2021",
         "2021",
         "34 min",
         "Movies"
        ],
        [
         "16",
         "913",
         "Movie",
         "The Circle - The Afterparty",
         "Krysia Plonka, Kristian Mercado",
         "United States",
         "5-7-2021",
         "2021",
         "35 min",
         "Comedies"
        ],
        [
         "17",
         "4",
         "TV Show",
         "Jailbirds New Orleans",
         "Not Given",
         "Pakistan",
         "9-24-2021",
         "2021",
         "1 Season",
         "Docuseries, Reality TV"
        ],
        [
         "18",
         "15",
         "TV Show",
         "Crime Stories: India Detectives",
         "Not Given",
         "Pakistan",
         "9-22-2021",
         "2021",
         "1 Season",
         "British TV Shows, Crime TV Shows, Docuseries"
        ],
        [
         "19",
         "3232",
         "Movie",
         "True: Winter Wishes",
         "Mark Thornton, Todd Kauffman",
         "United States",
         "11-26-2019",
         "2019",
         "46 min",
         "Children & Family Movies"
        ],
        [
         "20",
         "4832",
         "TV Show",
         "True: Magical Friends",
         "Mark Thornton, Todd Kauffman",
         "United States",
         "6-15-2018",
         "2018",
         "1 Season",
         "Kids' TV"
        ],
        [
         "21",
         "4833",
         "TV Show",
         "True: Wonderful Wishes",
         "Mark Thornton, Todd Kauffman",
         "United States",
         "6-15-2018",
         "2018",
         "1 Season",
         "Kids' TV"
        ],
        [
         "22",
         "4857",
         "TV Show",
         "Dance & Sing with True",
         "Mark Thornton, Todd Kauffman",
         "United States",
         "5-18-2018",
         "2018",
         "1 Season",
         "Kids' TV"
        ],
        [
         "23",
         "7",
         "Movie",
         "My Little Pony: A New Generation",
         "Robert Cullen, JosÃ© Luis Ucha",
         "Not Given",
         "9-24-2021",
         "2021",
         "91 min",
         "Children & Family Movies"
        ],
        [
         "24",
         "12",
         "TV Show",
         "Bangkok Breaking",
         "Kongkiat Komesiri",
         "Not Given",
         "9-23-2021",
         "2021",
         "1 Season",
         "Crime TV Shows, International TV Shows, TV Action & Adventure"
        ],
        [
         "25",
         "17",
         "Movie",
         "Europe's Most Dangerous Man: Otto Skorzeny in Spain",
         "Pedro de Echave GarcÃ­a, Pablo AzorÃ­n Williams",
         "Not Given",
         "9-22-2021",
         "2020",
         "67 min",
         "Documentaries, International Movies"
        ],
        [
         "26",
         "7930",
         "Movie",
         "Samudri Lootere",
         "Anirban Majumder",
         "Not Given",
         "6-18-2019",
         "2018",
         "65 min",
         "Children & Family Movies"
        ],
        [
         "27",
         "21",
         "TV Show",
         "Monsters Inside: The 24 Faces of Billy Milligan",
         "Olivier Megaton",
         "United States",
         "9-22-2021",
         "2021",
         "1 Season",
         "Crime TV Shows, Docuseries, International TV Shows"
        ],
        [
         "28",
         "24",
         "Movie",
         "Go! Go! Cory Carson: Chrissy Takes the Wheel",
         "Alex Woo, Stanley Moore",
         "United States",
         "9-21-2021",
         "2021",
         "61 min",
         "Children & Family Movies"
        ],
        [
         "29",
         "25",
         "Movie",
         "Jeans",
         "S. Shankar",
         "India",
         "9-21-2021",
         "1998",
         "166 min",
         "Comedies, International Movies, Romantic Movies"
        ],
        [
         "30",
         "28",
         "Movie",
         "Grown Ups",
         "Dennis Dugan",
         "United States",
         "9-20-2021",
         "2010",
         "103 min",
         "Comedies"
        ],
        [
         "31",
         "29",
         "Movie",
         "Dark Skies",
         "Scott Stewart",
         "United States",
         "9-19-2021",
         "2013",
         "97 min",
         "Horror Movies, Sci-Fi & Fantasy"
        ],
        [
         "32",
         "30",
         "Movie",
         "Paranoia",
         "Robert Luketic",
         "United States",
         "9-19-2021",
         "2013",
         "106 min",
         "Thrillers"
        ],
        [
         "33",
         "20",
         "TV Show",
         "Jaguar",
         "Not Given",
         "Pakistan",
         "9-22-2021",
         "2021",
         "1 Season",
         "International TV Shows, Spanish-Language TV Shows, TV Action & Adventure"
        ],
        [
         "34",
         "32",
         "TV Show",
         "Chicago Party Aunt",
         "Not Given",
         "Pakistan",
         "9-17-2021",
         "2021",
         "1 Season",
         "TV Comedies"
        ],
        [
         "35",
         "34",
         "TV Show",
         "Squid Game",
         "Not Given",
         "Pakistan",
         "9-17-2021",
         "2021",
         "1 Season",
         "International TV Shows, TV Dramas, TV Thrillers"
        ],
        [
         "36",
         "35",
         "TV Show",
         "Tayo and Little Wizards",
         "Not Given",
         "Pakistan",
         "9-17-2021",
         "2020",
         "1 Season",
         "Kids' TV"
        ],
        [
         "37",
         "75",
         "TV Show",
         "The World's Most Amazing Vacation Rentals",
         "Not Given",
         "Pakistan",
         "9-14-2021",
         "2021",
         "2 Seasons",
         "Reality TV"
        ],
        [
         "38",
         "84",
         "TV Show",
         "Metal Shop Masters",
         "Not Given",
         "Pakistan",
         "9-10-2021",
         "2021",
         "1 Season",
         "Reality TV"
        ],
        [
         "39",
         "86",
         "TV Show",
         "PokÃ©mon Master Journeys: The Series",
         "Not Given",
         "Pakistan",
         "9-10-2021",
         "2021",
         "1 Season",
         "Anime Series, Kids' TV"
        ],
        [
         "40",
         "88",
         "TV Show",
         "Titipo Titipo",
         "Not Given",
         "Pakistan",
         "9-10-2021",
         "2019",
         "2 Seasons",
         "Kids' TV, Korean TV Shows"
        ],
        [
         "41",
         "90",
         "TV Show",
         "Mighty Raju",
         "Not Given",
         "Pakistan",
         "9-9-2021",
         "2017",
         "4 Seasons",
         "Kids' TV"
        ],
        [
         "42",
         "101",
         "TV Show",
         "Tobot Galaxy Detectives",
         "Not Given",
         "Pakistan",
         "9-7-2021",
         "2019",
         "2 Seasons",
         "Kids' TV"
        ],
        [
         "43",
         "122",
         "TV Show",
         "Hotel Del Luna",
         "Not Given",
         "Pakistan",
         "9-2-2021",
         "2019",
         "1 Season",
         "International TV Shows, Romantic TV Shows, TV Comedies"
        ],
        [
         "44",
         "133",
         "TV Show",
         "Brave Animated Series",
         "Not Given",
         "Pakistan",
         "9-1-2021",
         "2021",
         "1 Season",
         "International TV Shows, TV Action & Adventure, TV Comedies"
        ],
        [
         "45",
         "148",
         "TV Show",
         "How to Be a Cowboy",
         "Not Given",
         "Pakistan",
         "9-1-2021",
         "2021",
         "1 Season",
         "Reality TV"
        ],
        [
         "46",
         "166",
         "TV Show",
         "Oldsters",
         "Not Given",
         "Pakistan",
         "9-1-2021",
         "2019",
         "1 Season",
         "Crime TV Shows, International TV Shows, Spanish-Language TV Shows"
        ],
        [
         "47",
         "190",
         "TV Show",
         "Bread Barbershop",
         "Not Given",
         "Pakistan",
         "8-28-2021",
         "2020",
         "2 Seasons",
         "Kids' TV, TV Comedies"
        ],
        [
         "48",
         "182",
         "TV Show",
         "Turning Point: 9/11 and the War on Terror",
         "Not Given",
         "Pakistan",
         "9-1-2021",
         "2021",
         "1 Season",
         "Docuseries"
        ],
        [
         "49",
         "187",
         "TV Show",
         "Hometown Cha-Cha-Cha",
         "Not Given",
         "Pakistan",
         "8-29-2021",
         "2021",
         "1 Season",
         "International TV Shows, Romantic TV Shows, TV Comedies"
        ]
       ],
       "shape": {
        "columns": 9,
        "rows": 8790
       }
      },
      "text/html": [
       "<div>\n",
       "<style scoped>\n",
       "    .dataframe tbody tr th:only-of-type {\n",
       "        vertical-align: middle;\n",
       "    }\n",
       "\n",
       "    .dataframe tbody tr th {\n",
       "        vertical-align: top;\n",
       "    }\n",
       "\n",
       "    .dataframe thead th {\n",
       "        text-align: right;\n",
       "    }\n",
       "</style>\n",
       "<table border=\"1\" class=\"dataframe\">\n",
       "  <thead>\n",
       "    <tr style=\"text-align: right;\">\n",
       "      <th></th>\n",
       "      <th>Show_id</th>\n",
       "      <th>Type</th>\n",
       "      <th>Title</th>\n",
       "      <th>Director</th>\n",
       "      <th>Country</th>\n",
       "      <th>Date_added</th>\n",
       "      <th>Release_year</th>\n",
       "      <th>Duration</th>\n",
       "      <th>Listed_in</th>\n",
       "    </tr>\n",
       "  </thead>\n",
       "  <tbody>\n",
       "    <tr>\n",
       "      <th>0</th>\n",
       "      <td>1</td>\n",
       "      <td>Movie</td>\n",
       "      <td>Dick Johnson Is Dead</td>\n",
       "      <td>Kirsten Johnson</td>\n",
       "      <td>United States</td>\n",
       "      <td>9-25-2021</td>\n",
       "      <td>2020</td>\n",
       "      <td>90 min</td>\n",
       "      <td>Documentaries</td>\n",
       "    </tr>\n",
       "    <tr>\n",
       "      <th>1</th>\n",
       "      <td>3</td>\n",
       "      <td>TV Show</td>\n",
       "      <td>Ganglands</td>\n",
       "      <td>Julien Leclercq</td>\n",
       "      <td>France</td>\n",
       "      <td>9-24-2021</td>\n",
       "      <td>2021</td>\n",
       "      <td>1 Season</td>\n",
       "      <td>Crime TV Shows, International TV Shows, TV Act...</td>\n",
       "    </tr>\n",
       "    <tr>\n",
       "      <th>2</th>\n",
       "      <td>6</td>\n",
       "      <td>TV Show</td>\n",
       "      <td>Midnight Mass</td>\n",
       "      <td>Mike Flanagan</td>\n",
       "      <td>United States</td>\n",
       "      <td>9-24-2021</td>\n",
       "      <td>2021</td>\n",
       "      <td>1 Season</td>\n",
       "      <td>TV Dramas, TV Horror, TV Mysteries</td>\n",
       "    </tr>\n",
       "    <tr>\n",
       "      <th>3</th>\n",
       "      <td>14</td>\n",
       "      <td>Movie</td>\n",
       "      <td>Confessions of an Invisible Girl</td>\n",
       "      <td>Bruno Garotti</td>\n",
       "      <td>Brazil</td>\n",
       "      <td>9-22-2021</td>\n",
       "      <td>2021</td>\n",
       "      <td>91 min</td>\n",
       "      <td>Children &amp; Family Movies, Comedies</td>\n",
       "    </tr>\n",
       "    <tr>\n",
       "      <th>4</th>\n",
       "      <td>8</td>\n",
       "      <td>Movie</td>\n",
       "      <td>Sankofa</td>\n",
       "      <td>Haile Gerima</td>\n",
       "      <td>United States</td>\n",
       "      <td>9-24-2021</td>\n",
       "      <td>1993</td>\n",
       "      <td>125 min</td>\n",
       "      <td>Dramas, Independent Movies, International Movies</td>\n",
       "    </tr>\n",
       "    <tr>\n",
       "      <th>...</th>\n",
       "      <td>...</td>\n",
       "      <td>...</td>\n",
       "      <td>...</td>\n",
       "      <td>...</td>\n",
       "      <td>...</td>\n",
       "      <td>...</td>\n",
       "      <td>...</td>\n",
       "      <td>...</td>\n",
       "      <td>...</td>\n",
       "    </tr>\n",
       "    <tr>\n",
       "      <th>8785</th>\n",
       "      <td>8797</td>\n",
       "      <td>TV Show</td>\n",
       "      <td>Yunus Emre</td>\n",
       "      <td>Not Given</td>\n",
       "      <td>Turkey</td>\n",
       "      <td>1-17-2017</td>\n",
       "      <td>2016</td>\n",
       "      <td>2 Seasons</td>\n",
       "      <td>International TV Shows, TV Dramas</td>\n",
       "    </tr>\n",
       "    <tr>\n",
       "      <th>8786</th>\n",
       "      <td>8798</td>\n",
       "      <td>TV Show</td>\n",
       "      <td>Zak Storm</td>\n",
       "      <td>Not Given</td>\n",
       "      <td>United States</td>\n",
       "      <td>9-13-2018</td>\n",
       "      <td>2016</td>\n",
       "      <td>3 Seasons</td>\n",
       "      <td>Kids' TV</td>\n",
       "    </tr>\n",
       "    <tr>\n",
       "      <th>8787</th>\n",
       "      <td>8801</td>\n",
       "      <td>TV Show</td>\n",
       "      <td>Zindagi Gulzar Hai</td>\n",
       "      <td>Not Given</td>\n",
       "      <td>Pakistan</td>\n",
       "      <td>12-15-2016</td>\n",
       "      <td>2012</td>\n",
       "      <td>1 Season</td>\n",
       "      <td>International TV Shows, Romantic TV Shows, TV ...</td>\n",
       "    </tr>\n",
       "    <tr>\n",
       "      <th>8788</th>\n",
       "      <td>8784</td>\n",
       "      <td>TV Show</td>\n",
       "      <td>Yoko</td>\n",
       "      <td>Not Given</td>\n",
       "      <td>Pakistan</td>\n",
       "      <td>6-23-2018</td>\n",
       "      <td>2016</td>\n",
       "      <td>1 Season</td>\n",
       "      <td>Kids' TV</td>\n",
       "    </tr>\n",
       "    <tr>\n",
       "      <th>8789</th>\n",
       "      <td>8786</td>\n",
       "      <td>TV Show</td>\n",
       "      <td>YOM</td>\n",
       "      <td>Not Given</td>\n",
       "      <td>Pakistan</td>\n",
       "      <td>6-7-2018</td>\n",
       "      <td>2016</td>\n",
       "      <td>1 Season</td>\n",
       "      <td>Kids' TV</td>\n",
       "    </tr>\n",
       "  </tbody>\n",
       "</table>\n",
       "<p>8790 rows × 9 columns</p>\n",
       "</div>"
      ],
      "text/plain": [
       "      Show_id     Type                             Title         Director  \\\n",
       "0           1    Movie              Dick Johnson Is Dead  Kirsten Johnson   \n",
       "1           3  TV Show                         Ganglands  Julien Leclercq   \n",
       "2           6  TV Show                     Midnight Mass    Mike Flanagan   \n",
       "3          14    Movie  Confessions of an Invisible Girl    Bruno Garotti   \n",
       "4           8    Movie                           Sankofa     Haile Gerima   \n",
       "...       ...      ...                               ...              ...   \n",
       "8785     8797  TV Show                        Yunus Emre        Not Given   \n",
       "8786     8798  TV Show                         Zak Storm        Not Given   \n",
       "8787     8801  TV Show                Zindagi Gulzar Hai        Not Given   \n",
       "8788     8784  TV Show                              Yoko        Not Given   \n",
       "8789     8786  TV Show                               YOM        Not Given   \n",
       "\n",
       "            Country  Date_added  Release_year   Duration  \\\n",
       "0     United States   9-25-2021          2020     90 min   \n",
       "1            France   9-24-2021          2021   1 Season   \n",
       "2     United States   9-24-2021          2021   1 Season   \n",
       "3            Brazil   9-22-2021          2021     91 min   \n",
       "4     United States   9-24-2021          1993    125 min   \n",
       "...             ...         ...           ...        ...   \n",
       "8785         Turkey   1-17-2017          2016  2 Seasons   \n",
       "8786  United States   9-13-2018          2016  3 Seasons   \n",
       "8787       Pakistan  12-15-2016          2012   1 Season   \n",
       "8788       Pakistan   6-23-2018          2016   1 Season   \n",
       "8789       Pakistan    6-7-2018          2016   1 Season   \n",
       "\n",
       "                                              Listed_in  \n",
       "0                                         Documentaries  \n",
       "1     Crime TV Shows, International TV Shows, TV Act...  \n",
       "2                    TV Dramas, TV Horror, TV Mysteries  \n",
       "3                    Children & Family Movies, Comedies  \n",
       "4      Dramas, Independent Movies, International Movies  \n",
       "...                                                 ...  \n",
       "8785                  International TV Shows, TV Dramas  \n",
       "8786                                           Kids' TV  \n",
       "8787  International TV Shows, Romantic TV Shows, TV ...  \n",
       "8788                                           Kids' TV  \n",
       "8789                                           Kids' TV  \n",
       "\n",
       "[8790 rows x 9 columns]"
      ]
     },
     "execution_count": 55,
     "metadata": {},
     "output_type": "execute_result"
    }
   ],
   "source": [
    "df2"
   ]
  }
 ],
 "metadata": {
  "kernelspec": {
   "display_name": "base",
   "language": "python",
   "name": "python3"
  },
  "language_info": {
   "codemirror_mode": {
    "name": "ipython",
    "version": 3
   },
   "file_extension": ".py",
   "mimetype": "text/x-python",
   "name": "python",
   "nbconvert_exporter": "python",
   "pygments_lexer": "ipython3",
   "version": "3.13.5"
  }
 },
 "nbformat": 4,
 "nbformat_minor": 5
}
